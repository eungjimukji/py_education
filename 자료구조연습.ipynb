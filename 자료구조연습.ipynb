{
 "cells": [
  {
   "cell_type": "markdown",
   "id": "d85e03db-944f-419b-a80d-f0761e99e80c",
   "metadata": {},
   "source": [
    "## 나만의 데이터 만들기\n",
    "----"
   ]
  },
  {
   "cell_type": "markdown",
   "id": "ea43a2c7-7d42-4a45-853c-410a35231e88",
   "metadata": {},
   "source": [
    ">시리즈 생성"
   ]
  },
  {
   "cell_type": "code",
   "execution_count": 7,
   "id": "e068bfec-f79d-465f-b3f3-c33ffd2827e8",
   "metadata": {},
   "outputs": [],
   "source": [
    "import pandas as pd"
   ]
  },
  {
   "cell_type": "code",
   "execution_count": 54,
   "id": "fdfb3bb8-bd8e-4c0f-ad73-96d39979f423",
   "metadata": {},
   "outputs": [
    {
     "name": "stdout",
     "output_type": "stream",
     "text": [
      "0    banana\n",
      "1        42\n",
      "dtype: object\n"
     ]
    }
   ],
   "source": [
    "s = pd.Series(['banana',42])      #리스트로 시리즈 생성 시  dtype은 object설정\n",
    "print(s)"
   ]
  },
  {
   "cell_type": "code",
   "execution_count": 55,
   "id": "56e4894d-0130-4a9e-8d2e-b95a09cb8de1",
   "metadata": {},
   "outputs": [
    {
     "name": "stdout",
     "output_type": "stream",
     "text": [
      "Person        Wes\n",
      "Who       Creater\n",
      "dtype: object\n"
     ]
    }
   ],
   "source": [
    "s = pd.Series(data= ['Wes','Creater'],index=['Person','Who'])  #index 지정하지 않을 경우 숫자 자동 생성\n",
    "print(s)"
   ]
  },
  {
   "cell_type": "markdown",
   "id": "16f87277-060b-4b53-88eb-d5030d7206af",
   "metadata": {},
   "source": [
    ">데이터 프레임 생성"
   ]
  },
  {
   "cell_type": "code",
   "execution_count": 57,
   "id": "4fad4fc8-7191-42a8-9a34-7d1383861918",
   "metadata": {},
   "outputs": [
    {
     "name": "stdout",
     "output_type": "stream",
     "text": [
      "  Name      Area     Born high\n",
      "0  이응지     Seoul  1997-08  158\n",
      "1  손재연  Gyeongju  1997-09  160\n",
      "2  임수민     Busan  1997-12  169\n"
     ]
    }
   ],
   "source": [
    "friends = pd.DataFrame({\n",
    "    \"Name\" : [\"이응지\",\"손재연\",\"임수민\"],\n",
    "    \"Area\" : [\"Seoul\",\"Gyeongju\",\"Busan\"],\n",
    "    \"Born\" : [\"1997-08\",\"1997-09\",\"1997-12\"],\n",
    "    \"high\" : [\"158\",\"160\",\"169\"]\n",
    "})\n",
    "                                                            \n",
    "print(friends)\n"
   ]
  },
  {
   "cell_type": "code",
   "execution_count": 60,
   "id": "f1274421-8d1e-4a46-9627-7919ce47d8e9",
   "metadata": {},
   "outputs": [
    {
     "name": "stdout",
     "output_type": "stream",
     "text": [
      "     Occupation        Born        Died  Age\n",
      "0       Chemist  1920-07-25  1958-04-16   37\n",
      "1  Statistician  1876-06-13  1937-10-16   61\n"
     ]
    }
   ],
   "source": [
    "scientists = pd.DataFrame(\n",
    "    data={\n",
    "        \"Occupation\": [\"Chemist\", \"Statistician\"],\n",
    "        \"Born\": [\"1920-07-25\", \"1876-06-13\"],\n",
    "        \"Died\": [\"1958-04-16\", \"1937-10-16\"],\n",
    "        \"Age\": [37, 61],\n",
    "    })\n",
    "\n",
    "print(scientists)"
   ]
  },
  {
   "cell_type": "markdown",
   "id": "631334ea-bed5-491a-959a-bd06e96ec602",
   "metadata": {},
   "source": [
    ">시리즈 추출하기"
   ]
  },
  {
   "cell_type": "code",
   "execution_count": 61,
   "id": "e38e0da0-f9ce-48c0-ac0b-3d7ffa5242c5",
   "metadata": {},
   "outputs": [
    {
     "name": "stdout",
     "output_type": "stream",
     "text": [
      "                     Occupation        Born        Died  Age\n",
      "Rosaline Franklin       Chemist  1920-07-25  1958-04-16   37\n",
      "William Gosset     Statistician  1876-06-13  1937-10-16   61\n"
     ]
    }
   ],
   "source": [
    "scientists = pd.DataFrame(\n",
    "    data={\n",
    "        \"Occupation\": [\"Chemist\", \"Statistician\"],\n",
    "        \"Born\": [\"1920-07-25\", \"1876-06-13\"],\n",
    "        \"Died\": [\"1958-04-16\", \"1937-10-16\"],\n",
    "        \"Age\": [37, 61],\n",
    "    },\n",
    "    index=[\"Rosaline Franklin\", \"William Gosset\"],\n",
    "    columns=[\"Occupation\", \"Born\", \"Died\", \"Age\"],\n",
    ")                                                       #index 지정하여 df 생성\n",
    "  \n",
    "print(scientists)"
   ]
  },
  {
   "cell_type": "code",
   "execution_count": 62,
   "id": "68d2ec31-8f3e-4107-8c17-a87c91b72340",
   "metadata": {},
   "outputs": [
    {
     "name": "stdout",
     "output_type": "stream",
     "text": [
      "<class 'pandas.core.series.Series'>\n"
     ]
    }
   ],
   "source": [
    "first_row = scientists.loc['William Gosset']\n",
    "print(type(first_row))     "
   ]
  },
  {
   "cell_type": "code",
   "execution_count": 65,
   "id": "b7275b45-bc1a-4190-b552-fa3ef0227ed5",
   "metadata": {},
   "outputs": [
    {
     "name": "stdout",
     "output_type": "stream",
     "text": [
      "Occupation    Statistician\n",
      "Born            1876-06-13\n",
      "Died            1937-10-16\n",
      "Age                     61\n",
      "Name: William Gosset, dtype: object\n"
     ]
    }
   ],
   "source": [
    "first1_row = scientists.iloc[1]    #loc -> iloc로 변환\n",
    "print(first1_row)"
   ]
  },
  {
   "cell_type": "code",
   "execution_count": 63,
   "id": "26e57d4d-af93-430a-adf0-aa361afbecf0",
   "metadata": {},
   "outputs": [
    {
     "name": "stdout",
     "output_type": "stream",
     "text": [
      "Occupation    Statistician\n",
      "Born            1876-06-13\n",
      "Died            1937-10-16\n",
      "Age                     61\n",
      "Name: William Gosset, dtype: object\n"
     ]
    }
   ],
   "source": [
    "print(first_row)"
   ]
  },
  {
   "cell_type": "markdown",
   "id": "ae306413-adda-4645-b43a-8ca2203eaf02",
   "metadata": {},
   "source": [
    ">시리즈의 keys() 메소드"
   ]
  },
  {
   "cell_type": "code",
   "execution_count": 67,
   "id": "d36d98f1-7294-4d49-b8d3-53572a793200",
   "metadata": {},
   "outputs": [
    {
     "name": "stdout",
     "output_type": "stream",
     "text": [
      "Index(['Occupation', 'Born', 'Died', 'Age'], dtype='object')\n"
     ]
    }
   ],
   "source": [
    "print(first_row.keys())            #속성 구문을 사용할 때는 소괄호()가 아닌 대괄호[]사용"
   ]
  },
  {
   "cell_type": "code",
   "execution_count": 69,
   "id": "b84fd077-6da4-4046-babe-4301915ca0f9",
   "metadata": {},
   "outputs": [
    {
     "name": "stdout",
     "output_type": "stream",
     "text": [
      "Occupation\n",
      "Occupation\n"
     ]
    }
   ],
   "source": [
    "print(first_row.index[0])\n",
    "print(first_row.keys()[0])    #도 가능"
   ]
  },
  {
   "cell_type": "markdown",
   "id": "a69f74dc-fb65-4667-8af7-e88307de3daf",
   "metadata": {},
   "source": [
    ">시리즈의 메소드 사용하기"
   ]
  },
  {
   "cell_type": "code",
   "execution_count": 29,
   "id": "39d55773-60db-4de7-89f7-3cf3d231e735",
   "metadata": {
    "scrolled": true
   },
   "outputs": [
    {
     "name": "stdout",
     "output_type": "stream",
     "text": [
      "0    37\n",
      "1    61\n",
      "2    90\n",
      "3    66\n",
      "4    56\n",
      "5    45\n",
      "6    41\n",
      "7    77\n",
      "Name: Age, dtype: int64\n"
     ]
    }
   ],
   "source": [
    "ages = scientists ['Age']     #Age 열 시리즈 추출\n",
    "print(ages)"
   ]
  },
  {
   "cell_type": "markdown",
   "id": "44740b1d-4e8f-41b2-8f99-b47ed76d632d",
   "metadata": {},
   "source": [
    "---\n",
    "-mean() 평균\n",
    "-min() 최솟값\n",
    "-max() 최댓값\n",
    "-std() 표준편차\n",
    "/ 넘파이의 ndarray의 메소드이기도 함"
   ]
  },
  {
   "cell_type": "markdown",
   "id": "dfe3ba06-04f2-42ee-862f-d65556ad5d29",
   "metadata": {},
   "source": [
    ">기술 통계량 계산"
   ]
  },
  {
   "cell_type": "code",
   "execution_count": 71,
   "id": "e5653c94-4ab0-440d-9415-9cd096fbe424",
   "metadata": {
    "jupyter": {
     "source_hidden": true
    }
   },
   "outputs": [],
   "source": [
    "scientists = pd.read_csv('./codes/data/scientists.csv', sep =',')   #tsv의 경우 ,sep = '\\t'"
   ]
  },
  {
   "cell_type": "code",
   "execution_count": 72,
   "id": "4bd63bed-5a8d-4a8c-94c5-9f277ff3ea64",
   "metadata": {},
   "outputs": [
    {
     "name": "stdout",
     "output_type": "stream",
     "text": [
      "count     8.000000\n",
      "mean     59.125000\n",
      "std      18.325918\n",
      "min      37.000000\n",
      "25%      44.000000\n",
      "50%      58.500000\n",
      "75%      68.750000\n",
      "max      90.000000\n",
      "Name: Age, dtype: float64\n"
     ]
    }
   ],
   "source": [
    "ages = scientists ['Age']     #Age 열 시리즈 추출\n",
    "print(ages.describe())        #기술 통계량 계산"
   ]
  },
  {
   "cell_type": "code",
   "execution_count": 73,
   "id": "1a3a0806-f5e1-444a-aebb-fba2858155bc",
   "metadata": {
    "scrolled": true
   },
   "outputs": [
    {
     "name": "stdout",
     "output_type": "stream",
     "text": [
      "59.125\n"
     ]
    }
   ],
   "source": [
    "print(ages.mean())  "
   ]
  },
  {
   "cell_type": "code",
   "execution_count": 75,
   "id": "3f0d8c4f-2543-4f9b-b50c-eae3cf9793a1",
   "metadata": {},
   "outputs": [
    {
     "name": "stdout",
     "output_type": "stream",
     "text": [
      "0    False\n",
      "1     True\n",
      "2     True\n",
      "3     True\n",
      "4    False\n",
      "5    False\n",
      "6    False\n",
      "7     True\n",
      "Name: Age, dtype: bool\n"
     ]
    }
   ],
   "source": [
    "print(ages > ages.mean())       #반환값 확인 , 행 위치 뿐만 아니라 Boolean값으로 구성된 벡터로도 데이터 추출할 수 있다."
   ]
  },
  {
   "cell_type": "code",
   "execution_count": 74,
   "id": "54f0860a-3463-46b1-abe3-ec9f8e101ffa",
   "metadata": {},
   "outputs": [
    {
     "name": "stdout",
     "output_type": "stream",
     "text": [
      "1    61\n",
      "2    90\n",
      "3    66\n",
      "7    77\n",
      "Name: Age, dtype: int64\n"
     ]
    }
   ],
   "source": [
    "print(ages[ages > ages.mean()])    #대괄호[]안에 조건 지정"
   ]
  },
  {
   "cell_type": "markdown",
   "id": "7bed6bfb-ea7c-4f1e-b4ab-0ef45b519ecd",
   "metadata": {},
   "source": [
    ">벡터와 벡터, 벡터와 스칼라 계산"
   ]
  },
  {
   "cell_type": "code",
   "execution_count": 76,
   "id": "5558d91b-1d12-48db-a7dd-aef5cad38d8a",
   "metadata": {},
   "outputs": [
    {
     "name": "stdout",
     "output_type": "stream",
     "text": [
      "0     74\n",
      "1    122\n",
      "2    180\n",
      "3    132\n",
      "4    112\n",
      "5     90\n",
      "6     82\n",
      "7    154\n",
      "Name: Age, dtype: int64\n",
      "0    1369\n",
      "1    3721\n",
      "2    8100\n",
      "3    4356\n",
      "4    3136\n",
      "5    2025\n",
      "6    1681\n",
      "7    5929\n",
      "Name: Age, dtype: int64\n"
     ]
    }
   ],
   "source": [
    "print(ages + ages)       \n",
    "print(ages * ages)        "
   ]
  },
  {
   "cell_type": "markdown",
   "id": "ec50b6ea-b45d-445d-9519-48348093fd1f",
   "metadata": {},
   "source": [
    ">길이가 서로 다른 벡터 연산"
   ]
  },
  {
   "cell_type": "code",
   "execution_count": 77,
   "id": "341b2df2-99b9-4cc9-bf17-1361f6bd8084",
   "metadata": {},
   "outputs": [
    {
     "name": "stdout",
     "output_type": "stream",
     "text": [
      "0     38.0\n",
      "1    161.0\n",
      "2      NaN\n",
      "3      NaN\n",
      "4      NaN\n",
      "5      NaN\n",
      "6      NaN\n",
      "7      NaN\n",
      "dtype: float64\n"
     ]
    }
   ],
   "source": [
    "print(ages + pd.Series([1,100]))"
   ]
  },
  {
   "cell_type": "markdown",
   "id": "388c1130-62b2-476d-8263-a2f2b01310a3",
   "metadata": {},
   "source": [
    ">인덱스가 같은 벡터 자동 정렬"
   ]
  },
  {
   "cell_type": "code",
   "execution_count": 79,
   "id": "aa84690d-7ef1-4609-a518-057f3d2cec3e",
   "metadata": {},
   "outputs": [
    {
     "name": "stdout",
     "output_type": "stream",
     "text": [
      "7    77\n",
      "6    41\n",
      "5    45\n",
      "4    56\n",
      "3    66\n",
      "2    90\n",
      "1    61\n",
      "0    37\n",
      "Name: Age, dtype: int64\n"
     ]
    }
   ],
   "source": [
    "rev_ages = ages.sort_index(ascending=False)\n",
    "print(rev_ages)                  #ages시리즈가 다음과 같이 내림차순으로 정렬됨"
   ]
  },
  {
   "cell_type": "code",
   "execution_count": 82,
   "id": "856a5e0c-3ab9-41ce-8e69-cfa4abeb2bf0",
   "metadata": {
    "scrolled": true
   },
   "outputs": [
    {
     "name": "stdout",
     "output_type": "stream",
     "text": [
      "0     74\n",
      "1    122\n",
      "2    180\n",
      "3    132\n",
      "4    112\n",
      "5     90\n",
      "6     82\n",
      "7    154\n",
      "Name: Age, dtype: int64\n"
     ]
    }
   ],
   "source": [
    "print(ages + rev_ages)   \n",
    "#rev_ages의 인덱스는 내림차순으로 정렬되어 있지만 ages의 인덱스 레이블이 오름차순이라 결과의 인덱스가 오름차순으로 자동 정렬"
   ]
  },
  {
   "cell_type": "markdown",
   "id": "a3607f74-21d0-4416-b5cb-ffb9b9a6c387",
   "metadata": {},
   "source": [
    ">df의 구성"
   ]
  },
  {
   "cell_type": "code",
   "execution_count": 31,
   "id": "a6f28a6c-2fe3-417a-ba5a-79c916b005bc",
   "metadata": {},
   "outputs": [
    {
     "data": {
      "text/plain": [
       "RangeIndex(start=0, stop=8, step=1)"
      ]
     },
     "execution_count": 31,
     "metadata": {},
     "output_type": "execute_result"
    }
   ],
   "source": [
    "scientists.index"
   ]
  },
  {
   "cell_type": "code",
   "execution_count": 83,
   "id": "f86870c0-a263-40c4-8599-97d16b8dbe06",
   "metadata": {},
   "outputs": [
    {
     "data": {
      "text/plain": [
       "Index(['Name', 'Born', 'Died', 'Age', 'Occupation'], dtype='object')"
      ]
     },
     "execution_count": 83,
     "metadata": {},
     "output_type": "execute_result"
    }
   ],
   "source": [
    "scientists.columns"
   ]
  },
  {
   "cell_type": "code",
   "execution_count": 85,
   "id": "61cb0f98-4a88-4626-9159-656cca932f1c",
   "metadata": {},
   "outputs": [
    {
     "data": {
      "text/plain": [
       "array([['Rosaline Franklin', '1920-07-25', '1958-04-16', 37, 'Chemist'],\n",
       "       ['William Gosset', '1876-06-13', '1937-10-16', 61, 'Statistician'],\n",
       "       ['Florence Nightingale', '1820-05-12', '1910-08-13', 90, 'Nurse'],\n",
       "       ['Marie Curie', '1867-11-07', '1934-07-04', 66, 'Chemist'],\n",
       "       ['Rachel Carson', '1907-05-27', '1964-04-14', 56, 'Biologist'],\n",
       "       ['John Snow', '1813-03-15', '1858-06-16', 45, 'Physician'],\n",
       "       ['Alan Turing', '1912-06-23', '1954-06-07', 41,\n",
       "        'Computer Scientist'],\n",
       "       ['Johann Gauss', '1777-04-30', '1855-02-23', 77, 'Mathematician']],\n",
       "      dtype=object)"
      ]
     },
     "execution_count": 85,
     "metadata": {},
     "output_type": "execute_result"
    }
   ],
   "source": [
    "scientists.values       #모든 행 인덱스 정보를 봄. numpy표현법으로 간단하게 볼 때 유용"
   ]
  },
  {
   "cell_type": "markdown",
   "id": "b48bd5e9-e405-44ed-ae16-6c501640e5f9",
   "metadata": {},
   "source": [
    ">df과 bool추출"
   ]
  },
  {
   "cell_type": "code",
   "execution_count": 88,
   "id": "78af8f4c-ba48-4e32-8a62-b3d5ff7624fe",
   "metadata": {},
   "outputs": [
    {
     "name": "stdout",
     "output_type": "stream",
     "text": [
      "                   Name        Born        Died  Age     Occupation\n",
      "1        William Gosset  1876-06-13  1937-10-16   61   Statistician\n",
      "2  Florence Nightingale  1820-05-12  1910-08-13   90          Nurse\n",
      "3           Marie Curie  1867-11-07  1934-07-04   66        Chemist\n",
      "7          Johann Gauss  1777-04-30  1855-02-23   77  Mathematician\n"
     ]
    }
   ],
   "source": [
    "print(scientists.loc[scientists['Age'] > scientists['Age'].mean()])\n",
    "#Age열의 값이 평균값 보다 큰 데이터만 추출"
   ]
  },
  {
   "cell_type": "markdown",
   "id": "c18e0642-1eae-46b2-9f42-036a36d22789",
   "metadata": {},
   "source": [
    ">df 대상으로 연산"
   ]
  },
  {
   "cell_type": "code",
   "execution_count": 89,
   "id": "336f2402-ed22-42cc-ba43-02b0ede91bc5",
   "metadata": {},
   "outputs": [
    {
     "name": "stdout",
     "output_type": "stream",
     "text": [
      "            Name        Born        Died  Age          Occupation\n",
      "4  Rachel Carson  1907-05-27  1964-04-14   56           Biologist\n",
      "5      John Snow  1813-03-15  1858-06-16   45           Physician\n",
      "6    Alan Turing  1912-06-23  1954-06-07   41  Computer Scientist\n",
      "7   Johann Gauss  1777-04-30  1855-02-23   77       Mathematician\n"
     ]
    }
   ],
   "source": [
    "first_half = scientists[ : 4]       #첫번째행부터 0,1,2,3\n",
    "second_half = scientists[4 : ]      #4번째행부터 끝까지\n",
    "print(second_half)   "
   ]
  },
  {
   "cell_type": "code",
   "execution_count": 90,
   "id": "d3b7108b-2ce4-487a-b18b-5c1dcee07182",
   "metadata": {
    "collapsed": true,
    "jupyter": {
     "outputs_hidden": true
    }
   },
   "outputs": [
    {
     "name": "stdout",
     "output_type": "stream",
     "text": [
      "                                       Name                  Born  \\\n",
      "0        Rosaline FranklinRosaline Franklin  1920-07-251920-07-25   \n",
      "1              William GossetWilliam Gosset  1876-06-131876-06-13   \n",
      "2  Florence NightingaleFlorence Nightingale  1820-05-121820-05-12   \n",
      "3                    Marie CurieMarie Curie  1867-11-071867-11-07   \n",
      "4                Rachel CarsonRachel Carson  1907-05-271907-05-27   \n",
      "5                        John SnowJohn Snow  1813-03-151813-03-15   \n",
      "6                    Alan TuringAlan Turing  1912-06-231912-06-23   \n",
      "7                  Johann GaussJohann Gauss  1777-04-301777-04-30   \n",
      "\n",
      "                   Died  Age                            Occupation  \n",
      "0  1958-04-161958-04-16   74                        ChemistChemist  \n",
      "1  1937-10-161937-10-16  122              StatisticianStatistician  \n",
      "2  1910-08-131910-08-13  180                            NurseNurse  \n",
      "3  1934-07-041934-07-04  132                        ChemistChemist  \n",
      "4  1964-04-141964-04-14  112                    BiologistBiologist  \n",
      "5  1858-06-161858-06-16   90                    PhysicianPhysician  \n",
      "6  1954-06-071954-06-07   82  Computer ScientistComputer Scientist  \n",
      "7  1855-02-231855-02-23  154            MathematicianMathematician  \n"
     ]
    }
   ],
   "source": [
    "print(scientists * 2)    #2번 반복"
   ]
  },
  {
   "cell_type": "code",
   "execution_count": 91,
   "id": "43b25559-518a-4812-87fc-98365c232f13",
   "metadata": {},
   "outputs": [
    {
     "name": "stdout",
     "output_type": "stream",
     "text": [
      "    0   1   2\n",
      "0   2   4   6\n",
      "1   8  10  12\n",
      "2  14  16  18\n"
     ]
    }
   ],
   "source": [
    "df1 = df2 = pd.DataFrame(data=[[1,2,3],[4,5,6],[7,8,9]])     #리스트 괄호 잘보기\n",
    "df_added = df1.add(df2)       #같은 셀끼리 값을 더하기 add()메소드 사용\n",
    "print(df_added)"
   ]
  },
  {
   "cell_type": "markdown",
   "id": "a8e619a2-8ffe-428f-a970-782ef69d3f53",
   "metadata": {},
   "source": [
    ">열 추가하기"
   ]
  },
  {
   "cell_type": "code",
   "execution_count": 94,
   "id": "f0af84d9-abd7-48f3-8fdd-2d8cf008df86",
   "metadata": {},
   "outputs": [
    {
     "name": "stdout",
     "output_type": "stream",
     "text": [
      "Name          object\n",
      "Born          object\n",
      "Died          object\n",
      "Age            int64\n",
      "Occupation    object\n",
      "dtype: object\n"
     ]
    }
   ],
   "source": [
    "print(scientists.dtypes)    #각 열의 유형 먼저 확인"
   ]
  },
  {
   "cell_type": "code",
   "execution_count": 95,
   "id": "d673da05-5e80-4634-83c8-c6af3b003f70",
   "metadata": {},
   "outputs": [
    {
     "name": "stdout",
     "output_type": "stream",
     "text": [
      "0   1920-07-25\n",
      "1   1876-06-13\n",
      "2   1820-05-12\n",
      "3   1867-11-07\n",
      "4   1907-05-27\n",
      "5   1813-03-15\n",
      "6   1912-06-23\n",
      "7   1777-04-30\n",
      "Name: Born, dtype: datetime64[ns]\n"
     ]
    }
   ],
   "source": [
    "born_datetime = pd.to_datetime(scientists['Born'],format = '%Y-%m-%d')\n",
    "print(born_datetime)      #Born열 object -> datetime형으로 변환"
   ]
  },
  {
   "cell_type": "code",
   "execution_count": 96,
   "id": "25d55284-765c-4de6-aad1-184a11670508",
   "metadata": {},
   "outputs": [
    {
     "name": "stdout",
     "output_type": "stream",
     "text": [
      "0   1958-04-16\n",
      "1   1937-10-16\n",
      "2   1910-08-13\n",
      "3   1934-07-04\n",
      "4   1964-04-14\n",
      "5   1858-06-16\n",
      "6   1954-06-07\n",
      "7   1855-02-23\n",
      "Name: Died, dtype: datetime64[ns]\n"
     ]
    }
   ],
   "source": [
    "died_datetime = pd.to_datetime(scientists['Died'],format = '%Y-%m-%d')\n",
    "print(died_datetime)      #Died열도 위와 같으므로 변환"
   ]
  },
  {
   "cell_type": "code",
   "execution_count": 98,
   "id": "957b5936-f2ed-41ea-9314-745100538860",
   "metadata": {},
   "outputs": [],
   "source": [
    "scientists['born_dt'],scientists['died_dt'] = (born_datetime, died_datetime)    #새로운 열로 df 추가"
   ]
  },
  {
   "cell_type": "code",
   "execution_count": 99,
   "id": "d753409e-abea-4e8f-9e8f-5ab2b9399464",
   "metadata": {
    "scrolled": true
   },
   "outputs": [
    {
     "name": "stdout",
     "output_type": "stream",
     "text": [
      "                   Name        Born        Died  Age    Occupation    born_dt  \\\n",
      "0     Rosaline Franklin  1920-07-25  1958-04-16   37       Chemist 1920-07-25   \n",
      "1        William Gosset  1876-06-13  1937-10-16   61  Statistician 1876-06-13   \n",
      "2  Florence Nightingale  1820-05-12  1910-08-13   90         Nurse 1820-05-12   \n",
      "3           Marie Curie  1867-11-07  1934-07-04   66       Chemist 1867-11-07   \n",
      "4         Rachel Carson  1907-05-27  1964-04-14   56     Biologist 1907-05-27   \n",
      "\n",
      "     died_dt  \n",
      "0 1958-04-16  \n",
      "1 1937-10-16  \n",
      "2 1910-08-13  \n",
      "3 1934-07-04  \n",
      "4 1964-04-14  \n"
     ]
    }
   ],
   "source": [
    "print(scientists.head())        #추가된 열 head()메소드로 확인"
   ]
  },
  {
   "cell_type": "code",
   "execution_count": 100,
   "id": "a244a34d-4472-4a7c-9690-78c22c6b51fd",
   "metadata": {},
   "outputs": [
    {
     "name": "stdout",
     "output_type": "stream",
     "text": [
      "(8, 7)\n"
     ]
    }
   ],
   "source": [
    "print(scientists.shape)"
   ]
  },
  {
   "cell_type": "markdown",
   "id": "664b86f5-485b-4c13-9698-b200104ed203",
   "metadata": {},
   "source": [
    ">열 내용 변환"
   ]
  },
  {
   "cell_type": "code",
   "execution_count": 102,
   "id": "74b8f538-415d-4d10-94c6-73d7e838df08",
   "metadata": {},
   "outputs": [
    {
     "name": "stdout",
     "output_type": "stream",
     "text": [
      "1    61\n",
      "5    45\n",
      "0    37\n",
      "7    77\n",
      "2    90\n",
      "4    56\n",
      "3    66\n",
      "6    41\n",
      "Name: Age, dtype: int64\n"
     ]
    }
   ],
   "source": [
    "print(scientists[\"Age\"].sample(frac=1,random_state =42))\n",
    "      #random_state 컴퓨터가 생성하는 난수의 기준값 / 현재 순서는 무작위"
   ]
  },
  {
   "cell_type": "code",
   "execution_count": 101,
   "id": "7b4810b8-4c5f-4e49-b9be-5f163efbd721",
   "metadata": {},
   "outputs": [
    {
     "name": "stdout",
     "output_type": "stream",
     "text": [
      "0    37\n",
      "1    61\n",
      "2    90\n",
      "3    66\n",
      "4    56\n",
      "5    45\n",
      "6    41\n",
      "7    77\n",
      "Name: Age, dtype: int64\n"
     ]
    }
   ],
   "source": [
    "scientists[\"Age\"] = scientists[\"Age\"].sample(frac=1,random_state =42)   \n",
    "#frac은 랜덤으로 섞을 비율을 말함 1=100%, 0.1=10%\n",
    "print(scientists['Age'])       #무작위였던 데이터가 Age열의 값이 기존 순서대로 돌아감. 판다스가 index를 기준으로 자동 병합하기 때문."
   ]
  },
  {
   "cell_type": "code",
   "execution_count": 103,
   "id": "d8d4bf44-9824-4a66-acbf-623b046acc22",
   "metadata": {},
   "outputs": [
    {
     "name": "stdout",
     "output_type": "stream",
     "text": [
      "0    61\n",
      "1    45\n",
      "2    37\n",
      "3    77\n",
      "4    90\n",
      "5    56\n",
      "6    66\n",
      "7    41\n",
      "Name: Age, dtype: int64\n"
     ]
    }
   ],
   "source": [
    "scientists[\"Age\"] = scientists[\"Age\"].sample(frac=1,random_state =42).values\n",
    "print(scientists['Age'])         #나이 정보가 뒤죽박죽,,,"
   ]
  },
  {
   "cell_type": "code",
   "execution_count": 104,
   "id": "951d40af-0322-4ace-a603-a4fa989a2faa",
   "metadata": {
    "collapsed": true,
    "jupyter": {
     "outputs_hidden": true
    }
   },
   "outputs": [
    {
     "name": "stdout",
     "output_type": "stream",
     "text": [
      "                   Name        Born        Died  Age          Occupation  \\\n",
      "0     Rosaline Franklin  1920-07-25  1958-04-16   61             Chemist   \n",
      "1        William Gosset  1876-06-13  1937-10-16   45        Statistician   \n",
      "2  Florence Nightingale  1820-05-12  1910-08-13   37               Nurse   \n",
      "3           Marie Curie  1867-11-07  1934-07-04   77             Chemist   \n",
      "4         Rachel Carson  1907-05-27  1964-04-14   90           Biologist   \n",
      "5             John Snow  1813-03-15  1858-06-16   56           Physician   \n",
      "6           Alan Turing  1912-06-23  1954-06-07   66  Computer Scientist   \n",
      "7          Johann Gauss  1777-04-30  1855-02-23   41       Mathematician   \n",
      "\n",
      "     born_dt    died_dt   age_days  \n",
      "0 1920-07-25 1958-04-16 13779 days  \n",
      "1 1876-06-13 1937-10-16 22404 days  \n",
      "2 1820-05-12 1910-08-13 32964 days  \n",
      "3 1867-11-07 1934-07-04 24345 days  \n",
      "4 1907-05-27 1964-04-14 20777 days  \n",
      "5 1813-03-15 1858-06-16 16529 days  \n",
      "6 1912-06-23 1954-06-07 15324 days  \n",
      "7 1777-04-30 1855-02-23 28422 days  \n"
     ]
    }
   ],
   "source": [
    "scientists['age_days'] = (scientists['died_dt'] - scientists['born_dt'])\n",
    "print(scientists)"
   ]
  },
  {
   "cell_type": "code",
   "execution_count": 106,
   "id": "b2cf178d-22bd-41b2-afb3-ebe7436c213e",
   "metadata": {
    "scrolled": true
   },
   "outputs": [
    {
     "name": "stdout",
     "output_type": "stream",
     "text": [
      "                   Name        Born        Died  Age          Occupation  \\\n",
      "0     Rosaline Franklin  1920-07-25  1958-04-16   61             Chemist   \n",
      "1        William Gosset  1876-06-13  1937-10-16   45        Statistician   \n",
      "2  Florence Nightingale  1820-05-12  1910-08-13   37               Nurse   \n",
      "3           Marie Curie  1867-11-07  1934-07-04   77             Chemist   \n",
      "4         Rachel Carson  1907-05-27  1964-04-14   90           Biologist   \n",
      "5             John Snow  1813-03-15  1858-06-16   56           Physician   \n",
      "6           Alan Turing  1912-06-23  1954-06-07   66  Computer Scientist   \n",
      "7          Johann Gauss  1777-04-30  1855-02-23   41       Mathematician   \n",
      "\n",
      "     born_dt    died_dt   age_days  age_years  \n",
      "0 1920-07-25 1958-04-16 13779 days       37.0  \n",
      "1 1876-06-13 1937-10-16 22404 days       61.0  \n",
      "2 1820-05-12 1910-08-13 32964 days       90.0  \n",
      "3 1867-11-07 1934-07-04 24345 days       66.0  \n",
      "4 1907-05-27 1964-04-14 20777 days       56.0  \n",
      "5 1813-03-15 1858-06-16 16529 days       45.0  \n",
      "6 1912-06-23 1954-06-07 15324 days       41.0  \n",
      "7 1777-04-30 1855-02-23 28422 days       77.0  \n"
     ]
    }
   ],
   "source": [
    "scientists['age_years'] = (scientists['age_days'].dt.days / 365).apply(np.floor)   #새로운 열 추가 : 출생일부터 사망일까지의 날짜 수를 햇수로 변환 floor 버림\n",
    "print(scientists)"
   ]
  },
  {
   "cell_type": "code",
   "execution_count": 109,
   "id": "9501b53d-e3db-4cec-a11a-f37a0f49ddb1",
   "metadata": {
    "scrolled": true
   },
   "outputs": [
    {
     "name": "stdout",
     "output_type": "stream",
     "text": [
      "                   Name        Born        Died  Age          Occupation  \\\n",
      "0     Rosaline Franklin  1920-07-25  1958-04-16   61             Chemist   \n",
      "1        William Gosset  1876-06-13  1937-10-16   45        Statistician   \n",
      "2  Florence Nightingale  1820-05-12  1910-08-13   37               Nurse   \n",
      "3           Marie Curie  1867-11-07  1934-07-04   77             Chemist   \n",
      "4         Rachel Carson  1907-05-27  1964-04-14   90           Biologist   \n",
      "5             John Snow  1813-03-15  1858-06-16   56           Physician   \n",
      "6           Alan Turing  1912-06-23  1954-06-07   66  Computer Scientist   \n",
      "7          Johann Gauss  1777-04-30  1855-02-23   41       Mathematician   \n",
      "\n",
      "     born_dt    died_dt   age_days  age_years age_days_assign  age_year_assign  \n",
      "0 1920-07-25 1958-04-16 13779 days       37.0      13779 days             37.0  \n",
      "1 1876-06-13 1937-10-16 22404 days       61.0      22404 days             61.0  \n",
      "2 1820-05-12 1910-08-13 32964 days       90.0      32964 days             90.0  \n",
      "3 1867-11-07 1934-07-04 24345 days       66.0      24345 days             66.0  \n",
      "4 1907-05-27 1964-04-14 20777 days       56.0      20777 days             56.0  \n",
      "5 1813-03-15 1858-06-16 16529 days       45.0      16529 days             45.0  \n",
      "6 1912-06-23 1954-06-07 15324 days       41.0      15324 days             41.0  \n",
      "7 1777-04-30 1855-02-23 28422 days       77.0      28422 days             77.0  \n"
     ]
    }
   ],
   "source": [
    "scientists = scientists.assign(\n",
    "                               age_days_assign = scientists['died_dt'] - scientists['born_dt'],\n",
    "                               age_year_assign = (scientists['age_days'].dt.days / 365).apply(np.floor))\n",
    "\n",
    "print(scientists)            #할당 연산자 왼쪽 : 새로운 열의 이름  오른쪽 : 할당할 값을 계산하는 연산"
   ]
  },
  {
   "cell_type": "code",
   "execution_count": 110,
   "id": "78307dea-7344-41bd-bfae-033bdf53598c",
   "metadata": {},
   "outputs": [
    {
     "name": "stdout",
     "output_type": "stream",
     "text": [
      "                   Name        Born        Died  Age          Occupation  \\\n",
      "0     Rosaline Franklin  1920-07-25  1958-04-16   61             Chemist   \n",
      "1        William Gosset  1876-06-13  1937-10-16   45        Statistician   \n",
      "2  Florence Nightingale  1820-05-12  1910-08-13   37               Nurse   \n",
      "3           Marie Curie  1867-11-07  1934-07-04   77             Chemist   \n",
      "4         Rachel Carson  1907-05-27  1964-04-14   90           Biologist   \n",
      "5             John Snow  1813-03-15  1858-06-16   56           Physician   \n",
      "6           Alan Turing  1912-06-23  1954-06-07   66  Computer Scientist   \n",
      "7          Johann Gauss  1777-04-30  1855-02-23   41       Mathematician   \n",
      "\n",
      "     born_dt    died_dt   age_days  age_years age_days_assign  age_year_assign  \n",
      "0 1920-07-25 1958-04-16 13779 days       37.0      13779 days             37.0  \n",
      "1 1876-06-13 1937-10-16 22404 days       61.0      22404 days             61.0  \n",
      "2 1820-05-12 1910-08-13 32964 days       90.0      32964 days             90.0  \n",
      "3 1867-11-07 1934-07-04 24345 days       66.0      24345 days             66.0  \n",
      "4 1907-05-27 1964-04-14 20777 days       56.0      20777 days             56.0  \n",
      "5 1813-03-15 1858-06-16 16529 days       45.0      16529 days             45.0  \n",
      "6 1912-06-23 1954-06-07 15324 days       41.0      15324 days             41.0  \n",
      "7 1777-04-30 1855-02-23 28422 days       77.0      28422 days             77.0  \n"
     ]
    }
   ],
   "source": [
    "scientists['age_years'] = (scientists['age_days'].dt.days / 365).apply(np.floor)\n",
    "\n",
    "print(scientists)"
   ]
  },
  {
   "cell_type": "markdown",
   "id": "829522dc-94e4-4a4f-85b5-12cac4229349",
   "metadata": {},
   "source": [
    ">데이터 저장하고 불러오기"
   ]
  },
  {
   "cell_type": "code",
   "execution_count": 111,
   "id": "92ad5ed6-6c85-4421-9eca-6e1ba36b8340",
   "metadata": {},
   "outputs": [
    {
     "name": "stdout",
     "output_type": "stream",
     "text": [
      "0       Rosaline Franklin\n",
      "1          William Gosset\n",
      "2    Florence Nightingale\n",
      "3             Marie Curie\n",
      "4           Rachel Carson\n",
      "5               John Snow\n",
      "6             Alan Turing\n",
      "7            Johann Gauss\n",
      "Name: Name, dtype: object\n"
     ]
    }
   ],
   "source": [
    "names = scientists['Name']\n",
    "print(names)"
   ]
  },
  {
   "cell_type": "code",
   "execution_count": 113,
   "id": "9f2e1934-635e-4aba-a05a-c4de627354e3",
   "metadata": {},
   "outputs": [],
   "source": [
    "names.to_pickle('./codes/data/scientists_names_series.pickle')   #이진 형식, 피클로 저장"
   ]
  },
  {
   "cell_type": "markdown",
   "id": "22de2246-105f-45af-a949-1ebf0520dcaf",
   "metadata": {},
   "source": [
    "- 피클 데이터 읽어오기\n",
    "  "
   ]
  },
  {
   "cell_type": "code",
   "execution_count": 116,
   "id": "f8ca5259-abc6-4983-854d-c5f1c95daca9",
   "metadata": {
    "scrolled": true
   },
   "outputs": [
    {
     "name": "stdout",
     "output_type": "stream",
     "text": [
      "0       Rosaline Franklin\n",
      "1          William Gosset\n",
      "2    Florence Nightingale\n",
      "3             Marie Curie\n",
      "4           Rachel Carson\n",
      "5               John Snow\n",
      "6             Alan Turing\n",
      "7            Johann Gauss\n",
      "Name: Name, dtype: object\n"
     ]
    }
   ],
   "source": [
    "series_pickle = pd.read_pickle('./codes/data/scientists_names_series.pickle')\n",
    "print(series_pickle)          #pd.read_pickle 사용"
   ]
  },
  {
   "cell_type": "markdown",
   "id": "b8dd7374-64d4-43e5-943f-d5a599a83376",
   "metadata": {},
   "source": [
    "- csv는 모든 프로그램에서 열 수 있고 범용성이 뛰어나지만 속도가 느리고 공간을 많이 차지함"
   ]
  },
  {
   "cell_type": "code",
   "execution_count": 51,
   "id": "84752d01-b8a4-47e8-bfc0-91897a6d6941",
   "metadata": {
    "scrolled": true
   },
   "outputs": [
    {
     "name": "stdout",
     "output_type": "stream",
     "text": [
      "<bound method NDFrame.to_csv of                    Name        Born        Died  Age          Occupation\n",
      "0     Rosaline Franklin  1920-07-25  1958-04-16   37             Chemist\n",
      "1        William Gosset  1876-06-13  1937-10-16   61        Statistician\n",
      "2  Florence Nightingale  1820-05-12  1910-08-13   90               Nurse\n",
      "3           Marie Curie  1867-11-07  1934-07-04   66             Chemist\n",
      "4         Rachel Carson  1907-05-27  1964-04-14   56           Biologist\n",
      "5             John Snow  1813-03-15  1858-06-16   45           Physician\n",
      "6           Alan Turing  1912-06-23  1954-06-07   41  Computer Scientist\n",
      "7          Johann Gauss  1777-04-30  1855-02-23   77       Mathematician>\n"
     ]
    },
    {
     "data": {
      "text/html": [
       "<div>\n",
       "<style scoped>\n",
       "    .dataframe tbody tr th:only-of-type {\n",
       "        vertical-align: middle;\n",
       "    }\n",
       "\n",
       "    .dataframe tbody tr th {\n",
       "        vertical-align: top;\n",
       "    }\n",
       "\n",
       "    .dataframe thead th {\n",
       "        text-align: right;\n",
       "    }\n",
       "</style>\n",
       "<table border=\"1\" class=\"dataframe\">\n",
       "  <thead>\n",
       "    <tr style=\"text-align: right;\">\n",
       "      <th></th>\n",
       "      <th>Name</th>\n",
       "      <th>Born</th>\n",
       "      <th>Died</th>\n",
       "      <th>Age</th>\n",
       "      <th>Occupation</th>\n",
       "    </tr>\n",
       "  </thead>\n",
       "  <tbody>\n",
       "    <tr>\n",
       "      <th>0</th>\n",
       "      <td>Rosaline Franklin</td>\n",
       "      <td>1920-07-25</td>\n",
       "      <td>1958-04-16</td>\n",
       "      <td>37</td>\n",
       "      <td>Chemist</td>\n",
       "    </tr>\n",
       "    <tr>\n",
       "      <th>1</th>\n",
       "      <td>William Gosset</td>\n",
       "      <td>1876-06-13</td>\n",
       "      <td>1937-10-16</td>\n",
       "      <td>61</td>\n",
       "      <td>Statistician</td>\n",
       "    </tr>\n",
       "    <tr>\n",
       "      <th>2</th>\n",
       "      <td>Florence Nightingale</td>\n",
       "      <td>1820-05-12</td>\n",
       "      <td>1910-08-13</td>\n",
       "      <td>90</td>\n",
       "      <td>Nurse</td>\n",
       "    </tr>\n",
       "    <tr>\n",
       "      <th>3</th>\n",
       "      <td>Marie Curie</td>\n",
       "      <td>1867-11-07</td>\n",
       "      <td>1934-07-04</td>\n",
       "      <td>66</td>\n",
       "      <td>Chemist</td>\n",
       "    </tr>\n",
       "    <tr>\n",
       "      <th>4</th>\n",
       "      <td>Rachel Carson</td>\n",
       "      <td>1907-05-27</td>\n",
       "      <td>1964-04-14</td>\n",
       "      <td>56</td>\n",
       "      <td>Biologist</td>\n",
       "    </tr>\n",
       "    <tr>\n",
       "      <th>5</th>\n",
       "      <td>John Snow</td>\n",
       "      <td>1813-03-15</td>\n",
       "      <td>1858-06-16</td>\n",
       "      <td>45</td>\n",
       "      <td>Physician</td>\n",
       "    </tr>\n",
       "    <tr>\n",
       "      <th>6</th>\n",
       "      <td>Alan Turing</td>\n",
       "      <td>1912-06-23</td>\n",
       "      <td>1954-06-07</td>\n",
       "      <td>41</td>\n",
       "      <td>Computer Scientist</td>\n",
       "    </tr>\n",
       "    <tr>\n",
       "      <th>7</th>\n",
       "      <td>Johann Gauss</td>\n",
       "      <td>1777-04-30</td>\n",
       "      <td>1855-02-23</td>\n",
       "      <td>77</td>\n",
       "      <td>Mathematician</td>\n",
       "    </tr>\n",
       "  </tbody>\n",
       "</table>\n",
       "</div>"
      ],
      "text/plain": [
       "                   Name        Born        Died  Age          Occupation\n",
       "0     Rosaline Franklin  1920-07-25  1958-04-16   37             Chemist\n",
       "1        William Gosset  1876-06-13  1937-10-16   61        Statistician\n",
       "2  Florence Nightingale  1820-05-12  1910-08-13   90               Nurse\n",
       "3           Marie Curie  1867-11-07  1934-07-04   66             Chemist\n",
       "4         Rachel Carson  1907-05-27  1964-04-14   56           Biologist\n",
       "5             John Snow  1813-03-15  1858-06-16   45           Physician\n",
       "6           Alan Turing  1912-06-23  1954-06-07   41  Computer Scientist\n",
       "7          Johann Gauss  1777-04-30  1855-02-23   77       Mathematician"
      ]
     },
     "execution_count": 51,
     "metadata": {},
     "output_type": "execute_result"
    }
   ],
   "source": [
    "scientists.to_csv('./codes/data/scientists.csv',index = False)   #행 번호는 제외하고 저장\n",
    "print(scientists.to_csv)\n",
    "pd.read_csv('./codes/data/scientists.csv')\n"
   ]
  },
  {
   "cell_type": "markdown",
   "id": "b54ff135-899d-4e23-b675-0a48c43ff4ce",
   "metadata": {},
   "source": [
    "- 엑셀로 저장"
   ]
  },
  {
   "cell_type": "code",
   "execution_count": 117,
   "id": "599755cf-9878-429d-ae14-c2ca00b7782a",
   "metadata": {},
   "outputs": [
    {
     "name": "stdout",
     "output_type": "stream",
     "text": [
      "Defaulting to user installation because normal site-packages is not writeable\n",
      "Collecting openpyxl\n",
      "  Downloading openpyxl-3.1.5-py2.py3-none-any.whl.metadata (2.5 kB)\n",
      "Collecting et-xmlfile (from openpyxl)\n",
      "  Downloading et_xmlfile-2.0.0-py3-none-any.whl.metadata (2.7 kB)\n",
      "Downloading openpyxl-3.1.5-py2.py3-none-any.whl (250 kB)\n",
      "Downloading et_xmlfile-2.0.0-py3-none-any.whl (18 kB)\n",
      "Installing collected packages: et-xmlfile, openpyxl\n",
      "Successfully installed et-xmlfile-2.0.0 openpyxl-3.1.5\n",
      "Note: you may need to restart the kernel to use updated packages.\n"
     ]
    }
   ],
   "source": [
    "pip install openpyxl"
   ]
  },
  {
   "cell_type": "code",
   "execution_count": 122,
   "id": "969af644-3c99-41c3-bc3c-4ee39c89cc85",
   "metadata": {},
   "outputs": [],
   "source": [
    "names = scientists['Name']\n",
    "names_df = names.to_frame()    #시리즈를 df으로 변환\n",
    "names_df.to_excel('./codes/data/scientists_names_seies_df.xls', engine='openpyxl')  #to_exel()메소드로 엑셀 파일을 저장"
   ]
  },
  {
   "cell_type": "markdown",
   "id": "3a6198a9-1342-463f-b1f7-3fd69563a891",
   "metadata": {},
   "source": [
    "- 딕셔너리로 변환"
   ]
  },
  {
   "cell_type": "code",
   "execution_count": 125,
   "id": "ed91e937-9c27-4661-8fa3-78070571d7ef",
   "metadata": {},
   "outputs": [],
   "source": [
    "sci_sub_dict = scientists.head(2)\n",
    "sci_dict = sci_sub_dict.to_dict()"
   ]
  },
  {
   "cell_type": "code",
   "execution_count": 126,
   "id": "4c95afc0-0b4a-4fd2-b147-c8ccdbc227ca",
   "metadata": {},
   "outputs": [
    {
     "name": "stdout",
     "output_type": "stream",
     "text": [
      "{'Age': {0: 61, 1: 45},\n",
      " 'Born': {0: '1920-07-25', 1: '1876-06-13'},\n",
      " 'Died': {0: '1958-04-16', 1: '1937-10-16'},\n",
      " 'Name': {0: 'Rosaline Franklin', 1: 'William Gosset'},\n",
      " 'Occupation': {0: 'Chemist', 1: 'Statistician'},\n",
      " 'age_days': {0: Timedelta('13779 days 00:00:00'),\n",
      "              1: Timedelta('22404 days 00:00:00')},\n",
      " 'age_days_assign': {0: Timedelta('13779 days 00:00:00'),\n",
      "                     1: Timedelta('22404 days 00:00:00')},\n",
      " 'age_year_assign': {0: 37.0, 1: 61.0},\n",
      " 'age_years': {0: 37.0, 1: 61.0},\n",
      " 'born_dt': {0: Timestamp('1920-07-25 00:00:00'),\n",
      "             1: Timestamp('1876-06-13 00:00:00')},\n",
      " 'died_dt': {0: Timestamp('1958-04-16 00:00:00'),\n",
      "             1: Timestamp('1937-10-16 00:00:00')}}\n"
     ]
    }
   ],
   "source": [
    "import pprint\n",
    "pprint.pprint(sci_dict)"
   ]
  },
  {
   "cell_type": "code",
   "execution_count": null,
   "id": "7a85e654-5f5f-431b-8eb1-757869ccb7d2",
   "metadata": {},
   "outputs": [],
   "source": []
  }
 ],
 "metadata": {
  "kernelspec": {
   "display_name": "Python 3 (ipykernel)",
   "language": "python",
   "name": "python3"
  },
  "language_info": {
   "codemirror_mode": {
    "name": "ipython",
    "version": 3
   },
   "file_extension": ".py",
   "mimetype": "text/x-python",
   "name": "python",
   "nbconvert_exporter": "python",
   "pygments_lexer": "ipython3",
   "version": "3.12.9"
  }
 },
 "nbformat": 4,
 "nbformat_minor": 5
}
