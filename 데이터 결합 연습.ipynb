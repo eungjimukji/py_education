{
 "cells": [
  {
   "cell_type": "markdown",
   "id": "54be286b-385d-4503-8d23-9034e97ed729",
   "metadata": {},
   "source": [
    "- 데이터 연결"
   ]
  },
  {
   "cell_type": "code",
   "execution_count": 49,
   "id": "8ef38c75-2e80-41f2-956d-a09d14348e11",
   "metadata": {},
   "outputs": [
    {
     "name": "stdout",
     "output_type": "stream",
     "text": [
      "    A   B   C   D\n",
      "0  a0  b0  c0  d0\n",
      "1  a1  b1  c1  d1\n",
      "2  a2  b2  c2  d2\n",
      "3  a3  b3  c3  d3\n"
     ]
    }
   ],
   "source": [
    "import pandas as pd\n",
    "\n",
    "df1 = pd.read_csv('./codes/data/concat_1.csv')\n",
    "df2 = pd.read_csv('./codes/data/concat_2.csv')\n",
    "df3 = pd.read_csv('./codes/data/concat_3.csv')\n",
    "print(df1)"
   ]
  },
  {
   "cell_type": "code",
   "execution_count": 50,
   "id": "cca5512f-466f-4124-ac1b-cce937c63cbd",
   "metadata": {},
   "outputs": [
    {
     "name": "stdout",
     "output_type": "stream",
     "text": [
      "    A   B   C   D\n",
      "0  a4  b4  c4  d4\n",
      "1  a5  b5  c5  d5\n",
      "2  a6  b6  c6  d6\n",
      "3  a7  b7  c7  d7\n"
     ]
    }
   ],
   "source": [
    "print(df2)"
   ]
  },
  {
   "cell_type": "code",
   "execution_count": 51,
   "id": "5f5178f9-b9be-4018-8dd1-c6d501b3dc72",
   "metadata": {},
   "outputs": [
    {
     "name": "stdout",
     "output_type": "stream",
     "text": [
      "     A    B    C    D\n",
      "0   a8   b8   c8   d8\n",
      "1   a9   b9   c9   d9\n",
      "2  a10  b10  c10  d10\n",
      "3  a11  b11  c11  d11\n"
     ]
    }
   ],
   "source": [
    "print(df3)"
   ]
  },
  {
   "cell_type": "code",
   "execution_count": 52,
   "id": "100e5014-7a31-44d5-91b3-8704984833ca",
   "metadata": {},
   "outputs": [
    {
     "name": "stdout",
     "output_type": "stream",
     "text": [
      "RangeIndex(start=0, stop=4, step=1)\n"
     ]
    }
   ],
   "source": [
    "print(df1.index)"
   ]
  },
  {
   "cell_type": "code",
   "execution_count": 53,
   "id": "9dfb8352-be21-47b1-9579-3e2aa0bd873e",
   "metadata": {},
   "outputs": [
    {
     "name": "stdout",
     "output_type": "stream",
     "text": [
      "Index(['A', 'B', 'C', 'D'], dtype='object')\n"
     ]
    }
   ],
   "source": [
    "print(df1.columns)"
   ]
  },
  {
   "cell_type": "code",
   "execution_count": 54,
   "id": "6da4694f-f71a-4a71-9bb0-47102fb15497",
   "metadata": {},
   "outputs": [
    {
     "name": "stdout",
     "output_type": "stream",
     "text": [
      "[['a0' 'b0' 'c0' 'd0']\n",
      " ['a1' 'b1' 'c1' 'd1']\n",
      " ['a2' 'b2' 'c2' 'd2']\n",
      " ['a3' 'b3' 'c3' 'd3']]\n"
     ]
    }
   ],
   "source": [
    "print(df1.values)"
   ]
  },
  {
   "cell_type": "code",
   "execution_count": 55,
   "id": "ae68fb40-5d90-4250-9fdf-40cc8103c99e",
   "metadata": {},
   "outputs": [
    {
     "name": "stdout",
     "output_type": "stream",
     "text": [
      "     A    B    C    D\n",
      "0   a0   b0   c0   d0\n",
      "1   a1   b1   c1   d1\n",
      "2   a2   b2   c2   d2\n",
      "3   a3   b3   c3   d3\n",
      "0   a4   b4   c4   d4\n",
      "1   a5   b5   c5   d5\n",
      "2   a6   b6   c6   d6\n",
      "3   a7   b7   c7   d7\n",
      "0   a8   b8   c8   d8\n",
      "1   a9   b9   c9   d9\n",
      "2  a10  b10  c10  d10\n",
      "3  a11  b11  c11  d11\n"
     ]
    }
   ],
   "source": [
    "row_concat = pd.concat([df1,df2,df3])\n",
    "print(row_concat)"
   ]
  },
  {
   "cell_type": "code",
   "execution_count": 56,
   "id": "20a02ba8-171f-4a20-91dd-4546410cb438",
   "metadata": {},
   "outputs": [
    {
     "name": "stdout",
     "output_type": "stream",
     "text": [
      "A    a3\n",
      "B    b3\n",
      "C    c3\n",
      "D    d3\n",
      "Name: 3, dtype: object\n"
     ]
    }
   ],
   "source": [
    "print(row_concat.iloc[ 3, :])"
   ]
  },
  {
   "cell_type": "code",
   "execution_count": 57,
   "id": "c09a6eae-aae6-4f6c-92be-ac629f656412",
   "metadata": {},
   "outputs": [
    {
     "name": "stdout",
     "output_type": "stream",
     "text": [
      "0    n1\n",
      "1    n2\n",
      "2    n3\n",
      "3    n4\n",
      "dtype: object\n"
     ]
    }
   ],
   "source": [
    "new_row_series = pd.Series(['n1','n2','n3','n4'])\n",
    "print(new_row_series)"
   ]
  },
  {
   "cell_type": "code",
   "execution_count": 58,
   "id": "506df6eb-84c4-4553-9753-ceceaddcc43b",
   "metadata": {},
   "outputs": [
    {
     "name": "stdout",
     "output_type": "stream",
     "text": [
      "     A    B    C    D    0\n",
      "0   a0   b0   c0   d0  NaN\n",
      "1   a1   b1   c1   d1  NaN\n",
      "2   a2   b2   c2   d2  NaN\n",
      "3   a3   b3   c3   d3  NaN\n",
      "0  NaN  NaN  NaN  NaN   n1\n",
      "1  NaN  NaN  NaN  NaN   n2\n",
      "2  NaN  NaN  NaN  NaN   n3\n",
      "3  NaN  NaN  NaN  NaN   n4\n"
     ]
    }
   ],
   "source": [
    "print(pd.concat([df1, new_row_series]))"
   ]
  },
  {
   "cell_type": "code",
   "execution_count": 59,
   "id": "0fd67f57-cfae-45d7-9d4c-296b3bf54807",
   "metadata": {},
   "outputs": [
    {
     "name": "stdout",
     "output_type": "stream",
     "text": [
      "    A   B   C   D\n",
      "0  n1  n2  n3  n4\n"
     ]
    }
   ],
   "source": [
    "new_row_df = pd.DataFrame(\n",
    "    data = [['n1','n2','n3','n4']],     #데이터 행 생성 시 두겹의 대괄호 쌍 사용\n",
    "    columns=['A','B','C','D'],\n",
    ")\n",
    "print(new_row_df)"
   ]
  },
  {
   "cell_type": "code",
   "execution_count": 60,
   "id": "0d009822-1f5f-419e-8f71-cf93d10b9295",
   "metadata": {},
   "outputs": [
    {
     "name": "stdout",
     "output_type": "stream",
     "text": [
      "    A   B   C   D\n",
      "0  a0  b0  c0  d0\n",
      "1  a1  b1  c1  d1\n",
      "2  a2  b2  c2  d2\n",
      "3  a3  b3  c3  d3\n",
      "0  n1  n2  n3  n4\n"
     ]
    }
   ],
   "source": [
    "print(pd.concat([df1, new_row_df]))"
   ]
  },
  {
   "cell_type": "code",
   "execution_count": 61,
   "id": "84b93992-a6ac-4e8a-a19e-406703fe7156",
   "metadata": {},
   "outputs": [
    {
     "name": "stdout",
     "output_type": "stream",
     "text": [
      "      A    B    C    D\n",
      "0    a0   b0   c0   d0\n",
      "1    a1   b1   c1   d1\n",
      "2    a2   b2   c2   d2\n",
      "3    a3   b3   c3   d3\n",
      "4    a4   b4   c4   d4\n",
      "5    a5   b5   c5   d5\n",
      "6    a6   b6   c6   d6\n",
      "7    a7   b7   c7   d7\n",
      "8    a8   b8   c8   d8\n",
      "9    a9   b9   c9   d9\n",
      "10  a10  b10  c10  d10\n",
      "11  a11  b11  c11  d11\n"
     ]
    }
   ],
   "source": [
    "row_concat_i = pd.concat([df1, df2, df3], ignore_index = True) #기존 인덱스 무시하고 새로이 설정\n",
    "print(row_concat_i)"
   ]
  },
  {
   "cell_type": "code",
   "execution_count": 62,
   "id": "3eb26a5b-fe14-4892-b572-f181510542f1",
   "metadata": {
    "scrolled": true
   },
   "outputs": [
    {
     "name": "stdout",
     "output_type": "stream",
     "text": [
      "    A   B   C   D   A   B   C   D    A    B    C    D\n",
      "0  a0  b0  c0  d0  a4  b4  c4  d4   a8   b8   c8   d8\n",
      "1  a1  b1  c1  d1  a5  b5  c5  d5   a9   b9   c9   d9\n",
      "2  a2  b2  c2  d2  a6  b6  c6  d6  a10  b10  c10  d10\n",
      "3  a3  b3  c3  d3  a7  b7  c7  d7  a11  b11  c11  d11\n"
     ]
    }
   ],
   "source": [
    "col_concat = pd.concat([df1, df2, df3], axis='columns')  #axis에 1 또는 'columns'를 설정하면 열 방향으로 연결\n",
    "print(col_concat)"
   ]
  },
  {
   "cell_type": "code",
   "execution_count": 63,
   "id": "dabf244a-55a7-4bf2-a98c-8d9f3b73312d",
   "metadata": {},
   "outputs": [
    {
     "name": "stdout",
     "output_type": "stream",
     "text": [
      "    A   A    A\n",
      "0  a0  a4   a8\n",
      "1  a1  a5   a9\n",
      "2  a2  a6  a10\n",
      "3  a3  a7  a11\n"
     ]
    }
   ],
   "source": [
    "print(col_concat['A'])   #A열 기준으로 추출"
   ]
  },
  {
   "cell_type": "code",
   "execution_count": 64,
   "id": "d406fdbe-a573-4754-8d6e-0129c071cfcd",
   "metadata": {},
   "outputs": [
    {
     "name": "stdout",
     "output_type": "stream",
     "text": [
      "    A   B   C   D   A   B   C   D    A    B    C    D Hello\n",
      "0  a0  b0  c0  d0  a4  b4  c4  d4   a8   b8   c8   d8    n1\n",
      "1  a1  b1  c1  d1  a5  b5  c5  d5   a9   b9   c9   d9    n2\n",
      "2  a2  b2  c2  d2  a6  b6  c6  d6  a10  b10  c10  d10    n3\n",
      "3  a3  b3  c3  d3  a7  b7  c7  d7  a11  b11  c11  d11    n4\n"
     ]
    }
   ],
   "source": [
    "col_concat['Hello'] = ['n1','n2','n3','n4']   #index수 맞춰야함\n",
    "print(col_concat)"
   ]
  },
  {
   "cell_type": "code",
   "execution_count": 65,
   "id": "15181b9e-6a86-4bb8-98b8-de07a86acd62",
   "metadata": {},
   "outputs": [
    {
     "name": "stdout",
     "output_type": "stream",
     "text": [
      "    A   B   C   D   A   B   C   D    A    B    C    D Hello New\n",
      "0  a0  b0  c0  d0  a4  b4  c4  d4   a8   b8   c8   d8    n1   1\n",
      "1  a1  b1  c1  d1  a5  b5  c5  d5   a9   b9   c9   d9    n2   2\n",
      "2  a2  b2  c2  d2  a6  b6  c6  d6  a10  b10  c10  d10    n3   3\n",
      "3  a3  b3  c3  d3  a7  b7  c7  d7  a11  b11  c11  d11    n4   4\n"
     ]
    }
   ],
   "source": [
    "col_concat['New'] = pd.Series(['1','2','3','4'])  #시리즈 추가도 가능\n",
    "print(col_concat)"
   ]
  },
  {
   "cell_type": "code",
   "execution_count": 66,
   "id": "5b10daa6-6547-4821-8a17-71c3275209b2",
   "metadata": {},
   "outputs": [
    {
     "name": "stdout",
     "output_type": "stream",
     "text": [
      "   0   1   2   3   4   5   6   7    8    9    10   11\n",
      "0  a0  b0  c0  d0  a4  b4  c4  d4   a8   b8   c8   d8\n",
      "1  a1  b1  c1  d1  a5  b5  c5  d5   a9   b9   c9   d9\n",
      "2  a2  b2  c2  d2  a6  b6  c6  d6  a10  b10  c10  d10\n",
      "3  a3  b3  c3  d3  a7  b7  c7  d7  a11  b11  c11  d11\n"
     ]
    }
   ],
   "source": [
    "print(pd.concat([df1, df2, df3], axis= \"columns\", ignore_index = True))  #열 이름 다시 설정"
   ]
  },
  {
   "cell_type": "code",
   "execution_count": 68,
   "id": "b13cfa5b-7b91-494e-92a0-0c32a4900d52",
   "metadata": {},
   "outputs": [
    {
     "name": "stdout",
     "output_type": "stream",
     "text": [
      "    A   B   C   D\n",
      "0  a0  b0  c0  d0\n",
      "1  a1  b1  c1  d1\n",
      "2  a2  b2  c2  d2\n",
      "3  a3  b3  c3  d3\n",
      "    E   F   G   H\n",
      "0  a4  b4  c4  d4\n",
      "1  a5  b5  c5  d5\n",
      "2  a6  b6  c6  d6\n",
      "3  a7  b7  c7  d7\n",
      "     A    C    F    H\n",
      "0   a8   b8   c8   d8\n",
      "1   a9   b9   c9   d9\n",
      "2  a10  b10  c10  d10\n",
      "3  a11  b11  c11  d11\n"
     ]
    }
   ],
   "source": [
    "df1.columns = ['A', 'B', 'C', 'D']\n",
    "df2.columns = ['E', 'F', 'G', 'H']\n",
    "df3.columns = ['A', 'C', 'F', 'H']\n",
    "print(df1)\n",
    "print(df2)\n",
    "print(df3)"
   ]
  },
  {
   "cell_type": "code",
   "execution_count": 69,
   "id": "79c79b20-7301-479a-a87a-9405e84c3a2f",
   "metadata": {},
   "outputs": [
    {
     "name": "stdout",
     "output_type": "stream",
     "text": [
      "     A    B    C    D    E    F    G    H\n",
      "0   a0   b0   c0   d0  NaN  NaN  NaN  NaN\n",
      "1   a1   b1   c1   d1  NaN  NaN  NaN  NaN\n",
      "2   a2   b2   c2   d2  NaN  NaN  NaN  NaN\n",
      "3   a3   b3   c3   d3  NaN  NaN  NaN  NaN\n",
      "0  NaN  NaN  NaN  NaN   a4   b4   c4   d4\n",
      "1  NaN  NaN  NaN  NaN   a5   b5   c5   d5\n",
      "2  NaN  NaN  NaN  NaN   a6   b6   c6   d6\n",
      "3  NaN  NaN  NaN  NaN   a7   b7   c7   d7\n",
      "0   a8  NaN   b8  NaN  NaN   c8  NaN   d8\n",
      "1   a9  NaN   b9  NaN  NaN   c9  NaN   d9\n",
      "2  a10  NaN  b10  NaN  NaN  c10  NaN  d10\n",
      "3  a11  NaN  b11  NaN  NaN  c11  NaN  d11\n"
     ]
    }
   ],
   "source": [
    "row_concat = pd.concat([df1,df2,df3])\n",
    "print(row_concat)            #단순히 df을 쌓지 않고 열을 자동으로 정렬 , NaN 결측값"
   ]
  },
  {
   "cell_type": "code",
   "execution_count": 70,
   "id": "eb50d12e-829b-4401-b64d-94b9b7f32a96",
   "metadata": {},
   "outputs": [
    {
     "name": "stdout",
     "output_type": "stream",
     "text": [
      "Empty DataFrame\n",
      "Columns: []\n",
      "Index: [0, 1, 2, 3, 0, 1, 2, 3, 0, 1, 2, 3]\n",
      "ㅡㅡㅡㅡㅡㅡㅡㅡㅡㅡㅡㅡㅡㅡㅡㅡㅡㅡㅡㅡㅡㅡㅡㅡ \n",
      "     A    B    C    D    E    F    G    H\n",
      "0   a0   b0   c0   d0  NaN  NaN  NaN  NaN\n",
      "1   a1   b1   c1   d1  NaN  NaN  NaN  NaN\n",
      "2   a2   b2   c2   d2  NaN  NaN  NaN  NaN\n",
      "3   a3   b3   c3   d3  NaN  NaN  NaN  NaN\n",
      "0  NaN  NaN  NaN  NaN   a4   b4   c4   d4\n",
      "1  NaN  NaN  NaN  NaN   a5   b5   c5   d5\n",
      "2  NaN  NaN  NaN  NaN   a6   b6   c6   d6\n",
      "3  NaN  NaN  NaN  NaN   a7   b7   c7   d7\n",
      "0   a8  NaN   b8  NaN  NaN   c8  NaN   d8\n",
      "1   a9  NaN   b9  NaN  NaN   c9  NaN   d9\n",
      "2  a10  NaN  b10  NaN  NaN  c10  NaN  d10\n",
      "3  a11  NaN  b11  NaN  NaN  c11  NaN  d11\n"
     ]
    }
   ],
   "source": [
    "print(pd.concat([df1,df2,df3], join='inner'))\n",
    "\n",
    "print(\"ㅡㅡㅡㅡㅡㅡㅡㅡㅡㅡㅡㅡㅡㅡㅡㅡㅡㅡㅡㅡㅡㅡㅡㅡ \")\n",
    "\n",
    "print(pd.concat([df1,df2,df3], join='outer'))\n"
   ]
  },
  {
   "cell_type": "code",
   "execution_count": 71,
   "id": "d855e92a-90c7-4943-8a65-74621784164c",
   "metadata": {},
   "outputs": [
    {
     "name": "stdout",
     "output_type": "stream",
     "text": [
      "     A    C\n",
      "0   a0   c0\n",
      "1   a1   c1\n",
      "2   a2   c2\n",
      "3   a3   c3\n",
      "0   a8   b8\n",
      "1   a9   b9\n",
      "2  a10  b10\n",
      "3  a11  b11\n"
     ]
    }
   ],
   "source": [
    "print(pd.concat([df1,df3], join='inner'))"
   ]
  },
  {
   "cell_type": "code",
   "execution_count": 73,
   "id": "d1ca4d9e-16d6-4541-86f0-f5bcb11758e0",
   "metadata": {},
   "outputs": [
    {
     "name": "stdout",
     "output_type": "stream",
     "text": [
      "    A   B   C   D\n",
      "0  a0  b0  c0  d0\n",
      "1  a1  b1  c1  d1\n",
      "2  a2  b2  c2  d2\n",
      "3  a3  b3  c3  d3\n",
      "    E   F   G   H\n",
      "4  a4  b4  c4  d4\n",
      "5  a5  b5  c5  d5\n",
      "6  a6  b6  c6  d6\n",
      "7  a7  b7  c7  d7\n",
      "     A    C    F    H\n",
      "0   a8   b8   c8   d8\n",
      "2   a9   b9   c9   d9\n",
      "5  a10  b10  c10  d10\n",
      "7  a11  b11  c11  d11\n"
     ]
    }
   ],
   "source": [
    "df1.index = [0,1,2,3]\n",
    "df2.index = [4,5,6,7]\n",
    "df3.index = [0,2,5,7]\n",
    "\n",
    "print(df1)\n",
    "print(df2)\n",
    "print(df3)\n"
   ]
  },
  {
   "cell_type": "code",
   "execution_count": 75,
   "id": "700ef4c8-73fc-48a6-a28f-455479bb6c8e",
   "metadata": {},
   "outputs": [
    {
     "name": "stdout",
     "output_type": "stream",
     "text": [
      "     A    B    C    D    E    F    G    H    A    C    F    H\n",
      "0   a0   b0   c0   d0  NaN  NaN  NaN  NaN   a8   b8   c8   d8\n",
      "1   a1   b1   c1   d1  NaN  NaN  NaN  NaN  NaN  NaN  NaN  NaN\n",
      "2   a2   b2   c2   d2  NaN  NaN  NaN  NaN   a9   b9   c9   d9\n",
      "3   a3   b3   c3   d3  NaN  NaN  NaN  NaN  NaN  NaN  NaN  NaN\n",
      "4  NaN  NaN  NaN  NaN   a4   b4   c4   d4  NaN  NaN  NaN  NaN\n",
      "5  NaN  NaN  NaN  NaN   a5   b5   c5   d5  a10  b10  c10  d10\n",
      "6  NaN  NaN  NaN  NaN   a6   b6   c6   d6  NaN  NaN  NaN  NaN\n",
      "7  NaN  NaN  NaN  NaN   a7   b7   c7   d7  a11  b11  c11  d11\n"
     ]
    }
   ],
   "source": [
    "col_concat = pd.concat([df1, df2, df3], axis=\"columns\")  #axis 열방향\n",
    "print(col_concat)"
   ]
  },
  {
   "cell_type": "code",
   "execution_count": 76,
   "id": "d277de23-a5cb-4aed-a5bb-98a5d8089531",
   "metadata": {},
   "outputs": [
    {
     "name": "stdout",
     "output_type": "stream",
     "text": [
      "    A   B   C   D   A   C   F   H\n",
      "0  a0  b0  c0  d0  a8  b8  c8  d8\n",
      "2  a2  b2  c2  d2  a9  b9  c9  d9\n"
     ]
    }
   ],
   "source": [
    "print(pd.concat([df1,df3], axis = \"columns\", join = 'inner'))"
   ]
  },
  {
   "cell_type": "markdown",
   "id": "3afcb2e9-1093-45b3-8e95-6b8469ecc1f0",
   "metadata": {},
   "source": [
    "- 분할된 데이터 연결"
   ]
  },
  {
   "cell_type": "code",
   "execution_count": 78,
   "id": "83dc181d-ed16-449f-8717-b42bf7293afc",
   "metadata": {
    "collapsed": true,
    "jupyter": {
     "outputs_hidden": true
    },
    "scrolled": true
   },
   "outputs": [
    {
     "name": "stdout",
     "output_type": "stream",
     "text": [
      "[WindowsPath('codes/data/billboard-by_week/billboard-01.csv'), WindowsPath('codes/data/billboard-by_week/billboard-02.csv'), WindowsPath('codes/data/billboard-by_week/billboard-03.csv'), WindowsPath('codes/data/billboard-by_week/billboard-04.csv'), WindowsPath('codes/data/billboard-by_week/billboard-05.csv'), WindowsPath('codes/data/billboard-by_week/billboard-06.csv'), WindowsPath('codes/data/billboard-by_week/billboard-07.csv'), WindowsPath('codes/data/billboard-by_week/billboard-08.csv'), WindowsPath('codes/data/billboard-by_week/billboard-09.csv'), WindowsPath('codes/data/billboard-by_week/billboard-10.csv'), WindowsPath('codes/data/billboard-by_week/billboard-11.csv'), WindowsPath('codes/data/billboard-by_week/billboard-12.csv'), WindowsPath('codes/data/billboard-by_week/billboard-13.csv'), WindowsPath('codes/data/billboard-by_week/billboard-14.csv'), WindowsPath('codes/data/billboard-by_week/billboard-15.csv'), WindowsPath('codes/data/billboard-by_week/billboard-16.csv'), WindowsPath('codes/data/billboard-by_week/billboard-17.csv'), WindowsPath('codes/data/billboard-by_week/billboard-18.csv'), WindowsPath('codes/data/billboard-by_week/billboard-19.csv'), WindowsPath('codes/data/billboard-by_week/billboard-20.csv'), WindowsPath('codes/data/billboard-by_week/billboard-21.csv'), WindowsPath('codes/data/billboard-by_week/billboard-22.csv'), WindowsPath('codes/data/billboard-by_week/billboard-23.csv'), WindowsPath('codes/data/billboard-by_week/billboard-24.csv'), WindowsPath('codes/data/billboard-by_week/billboard-25.csv'), WindowsPath('codes/data/billboard-by_week/billboard-26.csv'), WindowsPath('codes/data/billboard-by_week/billboard-27.csv'), WindowsPath('codes/data/billboard-by_week/billboard-28.csv'), WindowsPath('codes/data/billboard-by_week/billboard-29.csv'), WindowsPath('codes/data/billboard-by_week/billboard-30.csv'), WindowsPath('codes/data/billboard-by_week/billboard-31.csv'), WindowsPath('codes/data/billboard-by_week/billboard-32.csv'), WindowsPath('codes/data/billboard-by_week/billboard-33.csv'), WindowsPath('codes/data/billboard-by_week/billboard-34.csv'), WindowsPath('codes/data/billboard-by_week/billboard-35.csv'), WindowsPath('codes/data/billboard-by_week/billboard-36.csv'), WindowsPath('codes/data/billboard-by_week/billboard-37.csv'), WindowsPath('codes/data/billboard-by_week/billboard-38.csv'), WindowsPath('codes/data/billboard-by_week/billboard-39.csv'), WindowsPath('codes/data/billboard-by_week/billboard-40.csv'), WindowsPath('codes/data/billboard-by_week/billboard-41.csv'), WindowsPath('codes/data/billboard-by_week/billboard-42.csv'), WindowsPath('codes/data/billboard-by_week/billboard-43.csv'), WindowsPath('codes/data/billboard-by_week/billboard-44.csv'), WindowsPath('codes/data/billboard-by_week/billboard-45.csv'), WindowsPath('codes/data/billboard-by_week/billboard-46.csv'), WindowsPath('codes/data/billboard-by_week/billboard-47.csv'), WindowsPath('codes/data/billboard-by_week/billboard-48.csv'), WindowsPath('codes/data/billboard-by_week/billboard-49.csv'), WindowsPath('codes/data/billboard-by_week/billboard-50.csv'), WindowsPath('codes/data/billboard-by_week/billboard-51.csv'), WindowsPath('codes/data/billboard-by_week/billboard-52.csv'), WindowsPath('codes/data/billboard-by_week/billboard-53.csv'), WindowsPath('codes/data/billboard-by_week/billboard-54.csv'), WindowsPath('codes/data/billboard-by_week/billboard-55.csv'), WindowsPath('codes/data/billboard-by_week/billboard-56.csv'), WindowsPath('codes/data/billboard-by_week/billboard-57.csv'), WindowsPath('codes/data/billboard-by_week/billboard-58.csv'), WindowsPath('codes/data/billboard-by_week/billboard-59.csv'), WindowsPath('codes/data/billboard-by_week/billboard-60.csv'), WindowsPath('codes/data/billboard-by_week/billboard-61.csv'), WindowsPath('codes/data/billboard-by_week/billboard-62.csv'), WindowsPath('codes/data/billboard-by_week/billboard-63.csv'), WindowsPath('codes/data/billboard-by_week/billboard-64.csv'), WindowsPath('codes/data/billboard-by_week/billboard-65.csv'), WindowsPath('codes/data/billboard-by_week/billboard-66.csv'), WindowsPath('codes/data/billboard-by_week/billboard-67.csv'), WindowsPath('codes/data/billboard-by_week/billboard-68.csv'), WindowsPath('codes/data/billboard-by_week/billboard-69.csv'), WindowsPath('codes/data/billboard-by_week/billboard-70.csv'), WindowsPath('codes/data/billboard-by_week/billboard-71.csv'), WindowsPath('codes/data/billboard-by_week/billboard-72.csv'), WindowsPath('codes/data/billboard-by_week/billboard-73.csv'), WindowsPath('codes/data/billboard-by_week/billboard-74.csv'), WindowsPath('codes/data/billboard-by_week/billboard-75.csv'), WindowsPath('codes/data/billboard-by_week/billboard-76.csv')]\n"
     ]
    }
   ],
   "source": [
    "from pathlib import Path\n",
    "#현재 디렉토리를 나타내는 객체 \n",
    "billboard_data_files = (\n",
    "    Path(\".\")\n",
    "    .glob('./codes/data/billboard-by_week/billboard-*.csv')\n",
    ")\n",
    "\n",
    "#패턴에 맞는 모든 파일을 generator 형태로 찾아줌 , 정렬도 안되어있고 리스트도 아닌 일종의 흐름, 한 번 사용하면 내용이 사라짐\n",
    "\n",
    "billboard_data_files=sorted(list(billboard_data_files))\n",
    "                    #이름기준 정렬( glob()가 준 generator를 실제 리스트로 변환해줌)\n",
    "print(billboard_data_files)"
   ]
  },
  {
   "cell_type": "code",
   "execution_count": 79,
   "id": "9328ab77-e10c-41bc-b778-3545e818ef5e",
   "metadata": {
    "collapsed": true,
    "jupyter": {
     "outputs_hidden": true
    },
    "scrolled": true
   },
   "outputs": [
    {
     "name": "stdout",
     "output_type": "stream",
     "text": [
      "     year            artist                    track  time date.entered week  \\\n",
      "0    2000             2 Pac  Baby Don't Cry (Keep...  4:22   2000-02-26  wk1   \n",
      "1    2000           2Ge+her  The Hardest Part Of ...  3:15   2000-09-02  wk1   \n",
      "2    2000      3 Doors Down               Kryptonite  3:53   2000-04-08  wk1   \n",
      "3    2000      3 Doors Down                    Loser  4:24   2000-10-21  wk1   \n",
      "4    2000          504 Boyz            Wobble Wobble  3:35   2000-04-15  wk1   \n",
      "..    ...               ...                      ...   ...          ...  ...   \n",
      "312  2000       Yankee Grey     Another Nine Minutes  3:10   2000-04-29  wk1   \n",
      "313  2000  Yearwood, Trisha          Real Live Woman  3:55   2000-04-01  wk1   \n",
      "314  2000   Ying Yang Twins  Whistle While You Tw...  4:19   2000-03-18  wk1   \n",
      "315  2000     Zombie Nation            Kernkraft 400  3:30   2000-09-02  wk1   \n",
      "316  2000   matchbox twenty                     Bent  4:12   2000-04-29  wk1   \n",
      "\n",
      "     rating  \n",
      "0      87.0  \n",
      "1      91.0  \n",
      "2      81.0  \n",
      "3      76.0  \n",
      "4      57.0  \n",
      "..      ...  \n",
      "312    86.0  \n",
      "313    85.0  \n",
      "314    95.0  \n",
      "315    99.0  \n",
      "316    60.0  \n",
      "\n",
      "[317 rows x 7 columns]\n"
     ]
    }
   ],
   "source": [
    "billboard01 = pd.read_csv(billboard_data_files[0])  #[] 리스트 순서\n",
    "billboard02 = pd.read_csv(billboard_data_files[1])\n",
    "billboard03 = pd.read_csv(billboard_data_files[2])\n",
    "print(billboard01)"
   ]
  },
  {
   "cell_type": "code",
   "execution_count": 81,
   "id": "658affc8-ca5f-4f9a-8ee9-33524d8faf06",
   "metadata": {},
   "outputs": [
    {
     "name": "stdout",
     "output_type": "stream",
     "text": [
      "(317, 7)\n",
      "(317, 7)\n",
      "(317, 7)\n"
     ]
    }
   ],
   "source": [
    "print(billboard01.shape)    #데이터 확인\n",
    "print(billboard02.shape)\n",
    "print(billboard03.shape)"
   ]
  },
  {
   "cell_type": "code",
   "execution_count": 82,
   "id": "78b8f740-90b7-41cd-96b3-a6e388c1c4b6",
   "metadata": {},
   "outputs": [
    {
     "name": "stdout",
     "output_type": "stream",
     "text": [
      "(951, 7)\n"
     ]
    }
   ],
   "source": [
    "billboard = pd.concat([billboard01, billboard02, billboard03])\n",
    "print(billboard.shape)        #연결된 데이터 확인"
   ]
  },
  {
   "cell_type": "code",
   "execution_count": 86,
   "id": "b2e47194-dd64-44a9-87b2-50aee24e3907",
   "metadata": {},
   "outputs": [],
   "source": [
    "assert (\n",
    "    billboard01.shape[0] + billboard02.shape[0] + billboard03.shape[0] == billboard.shape[0]\n",
    ")\n"
   ]
  },
  {
   "cell_type": "code",
   "execution_count": 87,
   "id": "566d72ab-8f8b-4271-ae56-70809882e2e8",
   "metadata": {},
   "outputs": [
    {
     "name": "stdout",
     "output_type": "stream",
     "text": [
      "76\n"
     ]
    }
   ],
   "source": [
    "from pathlib import Path\n",
    "\n",
    "billboard_data_files = (\n",
    "    Path(\".\")\n",
    "    .glob('./codes/data/billboard-by_week/billboard-*.csv')\n",
    ")\n",
    "\n",
    "#빈 리스트 생성\n",
    "list_billboard_df = []\n",
    "\n",
    "for csv_filename in billboard_data_files:\n",
    "    df = pd.read_csv(csv_filename)\n",
    "\n",
    "    list_billboard_df.append(df)  #df를 리스트에 추가\n",
    "\n",
    "print(len(list_billboard_df))\n"
   ]
  },
  {
   "cell_type": "code",
   "execution_count": 88,
   "id": "8b186edb-eefb-4091-a711-29dc3d9ea8d5",
   "metadata": {},
   "outputs": [
    {
     "name": "stdout",
     "output_type": "stream",
     "text": [
      "<class 'pandas.core.frame.DataFrame'>\n"
     ]
    }
   ],
   "source": [
    "print(type(list_billboard_df[0]))"
   ]
  },
  {
   "cell_type": "code",
   "execution_count": 89,
   "id": "cdd15f71-7538-41c2-b8d1-5e660dfa2f91",
   "metadata": {},
   "outputs": [
    {
     "name": "stdout",
     "output_type": "stream",
     "text": [
      "     year            artist                    track  time date.entered week  \\\n",
      "0    2000             2 Pac  Baby Don't Cry (Keep...  4:22   2000-02-26  wk1   \n",
      "1    2000           2Ge+her  The Hardest Part Of ...  3:15   2000-09-02  wk1   \n",
      "2    2000      3 Doors Down               Kryptonite  3:53   2000-04-08  wk1   \n",
      "3    2000      3 Doors Down                    Loser  4:24   2000-10-21  wk1   \n",
      "4    2000          504 Boyz            Wobble Wobble  3:35   2000-04-15  wk1   \n",
      "..    ...               ...                      ...   ...          ...  ...   \n",
      "312  2000       Yankee Grey     Another Nine Minutes  3:10   2000-04-29  wk1   \n",
      "313  2000  Yearwood, Trisha          Real Live Woman  3:55   2000-04-01  wk1   \n",
      "314  2000   Ying Yang Twins  Whistle While You Tw...  4:19   2000-03-18  wk1   \n",
      "315  2000     Zombie Nation            Kernkraft 400  3:30   2000-09-02  wk1   \n",
      "316  2000   matchbox twenty                     Bent  4:12   2000-04-29  wk1   \n",
      "\n",
      "     rating  \n",
      "0      87.0  \n",
      "1      91.0  \n",
      "2      81.0  \n",
      "3      76.0  \n",
      "4      57.0  \n",
      "..      ...  \n",
      "312    86.0  \n",
      "313    85.0  \n",
      "314    95.0  \n",
      "315    99.0  \n",
      "316    60.0  \n",
      "\n",
      "[317 rows x 7 columns]\n"
     ]
    }
   ],
   "source": [
    "print(list_billboard_df[0])"
   ]
  },
  {
   "cell_type": "code",
   "execution_count": 90,
   "id": "bae524b3-b70d-463e-8670-c1e2cf5d04fd",
   "metadata": {},
   "outputs": [
    {
     "name": "stdout",
     "output_type": "stream",
     "text": [
      "(24092, 7)\n"
     ]
    }
   ],
   "source": [
    "billboard_loop_concat = pd.concat(list_billboard_df)\n",
    "print(billboard_loop_concat.shape)"
   ]
  },
  {
   "cell_type": "markdown",
   "id": "7948a507-fe76-4c7f-a1fe-d85e4649d9ac",
   "metadata": {},
   "source": [
    "- 리스트 컴프리헨션으로 여러 개 파일 불러오기"
   ]
  },
  {
   "cell_type": "code",
   "execution_count": 91,
   "id": "263f77d1-5265-4362-ae70-092830dcc648",
   "metadata": {},
   "outputs": [],
   "source": [
    "billboard_data_files = (\n",
    "    Path(\".\")\n",
    "    .glob('./codes/data/billboard-by_week/billboard-*.csv')\n",
    ")\n",
    "#빈 리스트 생성\n",
    "list_billboard_df = []\n",
    "\n",
    "for csv_filename in billboard_data_files:\n",
    "    df = pd.read_csv(csv_filename)\n",
    "    list_billboard_df.append(df)\n",
    "\n",
    "billboard_data_files = ( \n",
    "    Path(\".\")\n",
    "    .glob('./codes/data/billboard-by_week/billboard-*.csv')\n",
    ")\n",
    "\n",
    "billboard_dfs = [pd.read_csv(data) for data in billboard_data_files]\n",
    "                    #for 문을 간략하게 씀. billboard_data_files의 루프를 돌며 리스트를 만드는 컴프리헨션\n"
   ]
  },
  {
   "cell_type": "code",
   "execution_count": 92,
   "id": "f3cf02c4-1758-45dc-8cf7-502ab313695f",
   "metadata": {},
   "outputs": [
    {
     "name": "stdout",
     "output_type": "stream",
     "text": [
      "76\n"
     ]
    }
   ],
   "source": [
    "#컴프리헨션 확인\n",
    "print(len(billboard_dfs))"
   ]
  },
  {
   "cell_type": "markdown",
   "id": "64636c94-ab53-490b-a7ec-4ad9d80788fb",
   "metadata": {},
   "source": [
    "- 여러 데이터셋 병합 / 관측 데이터셋 사용"
   ]
  },
  {
   "cell_type": "code",
   "execution_count": 93,
   "id": "87dddfd8-3d3d-4010-b698-ce25165f3cd9",
   "metadata": {},
   "outputs": [
    {
     "name": "stdout",
     "output_type": "stream",
     "text": [
      "      ident   personal    family\n",
      "0      dyer    William      Dyer\n",
      "1        pb      Frank   Pabodie\n",
      "2      lake   Anderson      Lake\n",
      "3       roe  Valentina   Roerich\n",
      "4  danforth      Frank  Danforth\n"
     ]
    }
   ],
   "source": [
    "person = pd.read_csv('./codes/data/survey_person.csv')\n",
    "site = pd.read_csv('./codes/data/survey_site.csv')\n",
    "survey = pd.read_csv('./codes/data/survey_survey.csv')\n",
    "visited = pd.read_csv('./codes/data/survey_visited.csv')\n",
    "print(person)"
   ]
  },
  {
   "cell_type": "code",
   "execution_count": 94,
   "id": "c22b8221-3574-45af-a53e-56b97750c51d",
   "metadata": {},
   "outputs": [
    {
     "name": "stdout",
     "output_type": "stream",
     "text": [
      "    name    lat    long\n",
      "0   DR-1 -49.85 -128.57\n",
      "1   DR-3 -47.15 -126.72\n",
      "2  MSK-4 -48.87 -123.40\n"
     ]
    }
   ],
   "source": [
    "print(site)"
   ]
  },
  {
   "cell_type": "code",
   "execution_count": 95,
   "id": "04552cba-2691-4d5c-a05c-7396ed69caba",
   "metadata": {},
   "outputs": [
    {
     "name": "stdout",
     "output_type": "stream",
     "text": [
      "   ident   site       dated\n",
      "0    619   DR-1  1927-02-08\n",
      "1    622   DR-1  1927-02-10\n",
      "2    734   DR-3  1939-01-07\n",
      "3    735   DR-3  1930-01-12\n",
      "4    751   DR-3  1930-02-26\n",
      "5    752   DR-3         NaN\n",
      "6    837  MSK-4  1932-01-14\n",
      "7    844   DR-1  1932-03-22\n"
     ]
    }
   ],
   "source": [
    "print(visited)"
   ]
  },
  {
   "cell_type": "code",
   "execution_count": 96,
   "id": "8ad7568b-131a-4b60-bc04-eef87d3ae7d6",
   "metadata": {},
   "outputs": [
    {
     "name": "stdout",
     "output_type": "stream",
     "text": [
      "    taken person quant  reading\n",
      "0     619   dyer   rad     9.82\n",
      "1     619   dyer   sal     0.13\n",
      "2     622   dyer   rad     7.80\n",
      "3     622   dyer   sal     0.09\n",
      "4     734     pb   rad     8.41\n",
      "5     734   lake   sal     0.05\n",
      "6     734     pb  temp   -21.50\n",
      "7     735     pb   rad     7.22\n",
      "8     735    NaN   sal     0.06\n",
      "9     735    NaN  temp   -26.00\n",
      "10    751     pb   rad     4.35\n",
      "11    751     pb  temp   -18.50\n",
      "12    751   lake   sal     0.10\n",
      "13    752   lake   rad     2.19\n",
      "14    752   lake   sal     0.09\n",
      "15    752   lake  temp   -16.00\n",
      "16    752    roe   sal    41.60\n",
      "17    837   lake   rad     1.46\n",
      "18    837   lake   sal     0.21\n",
      "19    837    roe   sal    22.50\n",
      "20    844    roe   rad    11.25\n"
     ]
    }
   ],
   "source": [
    "print(survey)"
   ]
  },
  {
   "cell_type": "code",
   "execution_count": null,
   "id": "bc078b87-2342-44da-b22f-1d6d8c1444bb",
   "metadata": {},
   "outputs": [],
   "source": []
  }
 ],
 "metadata": {
  "kernelspec": {
   "display_name": "Python 3 (ipykernel)",
   "language": "python",
   "name": "python3"
  },
  "language_info": {
   "codemirror_mode": {
    "name": "ipython",
    "version": 3
   },
   "file_extension": ".py",
   "mimetype": "text/x-python",
   "name": "python",
   "nbconvert_exporter": "python",
   "pygments_lexer": "ipython3",
   "version": "3.12.9"
  }
 },
 "nbformat": 4,
 "nbformat_minor": 5
}
