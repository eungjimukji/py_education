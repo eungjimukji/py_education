{
 "cells": [
  {
   "cell_type": "markdown",
   "id": "48dee117-1c2b-4837-9ce8-d22e5e3cc661",
   "metadata": {},
   "source": [
    "### 타이타닉 승객 정보 데이터셋을 이용한 생존 여부 예측\n",
    "- 각 승객 정보(이름, 성별, 나이, 티켓 번호 등)을 활용\n",
    "- 로지스틱 회귀모델을 이용"
   ]
  },
  {
   "cell_type": "code",
   "execution_count": 1,
   "id": "f38cefde-64e1-41c2-b4ad-181cc9383bcf",
   "metadata": {},
   "outputs": [
    {
     "data": {
      "text/html": [
       "<div>\n",
       "<style scoped>\n",
       "    .dataframe tbody tr th:only-of-type {\n",
       "        vertical-align: middle;\n",
       "    }\n",
       "\n",
       "    .dataframe tbody tr th {\n",
       "        vertical-align: top;\n",
       "    }\n",
       "\n",
       "    .dataframe thead th {\n",
       "        text-align: right;\n",
       "    }\n",
       "</style>\n",
       "<table border=\"1\" class=\"dataframe\">\n",
       "  <thead>\n",
       "    <tr style=\"text-align: right;\">\n",
       "      <th></th>\n",
       "      <th>Pclass</th>\n",
       "      <th>Name</th>\n",
       "      <th>Sex</th>\n",
       "      <th>Age</th>\n",
       "      <th>SibSp</th>\n",
       "      <th>Parch</th>\n",
       "      <th>Ticket</th>\n",
       "      <th>Embarked</th>\n",
       "      <th>Survived</th>\n",
       "    </tr>\n",
       "  </thead>\n",
       "  <tbody>\n",
       "    <tr>\n",
       "      <th>0</th>\n",
       "      <td>3</td>\n",
       "      <td>Braund, Mr. Owen Harris</td>\n",
       "      <td>male</td>\n",
       "      <td>22.0</td>\n",
       "      <td>1</td>\n",
       "      <td>0</td>\n",
       "      <td>A/5 21171</td>\n",
       "      <td>S</td>\n",
       "      <td>0</td>\n",
       "    </tr>\n",
       "    <tr>\n",
       "      <th>1</th>\n",
       "      <td>1</td>\n",
       "      <td>Cumings, Mrs. John Bradley (Florence Briggs Th...</td>\n",
       "      <td>female</td>\n",
       "      <td>38.0</td>\n",
       "      <td>1</td>\n",
       "      <td>0</td>\n",
       "      <td>PC 17599</td>\n",
       "      <td>C</td>\n",
       "      <td>1</td>\n",
       "    </tr>\n",
       "    <tr>\n",
       "      <th>2</th>\n",
       "      <td>3</td>\n",
       "      <td>Heikkinen, Miss. Laina</td>\n",
       "      <td>female</td>\n",
       "      <td>26.0</td>\n",
       "      <td>0</td>\n",
       "      <td>0</td>\n",
       "      <td>STON/O2. 3101282</td>\n",
       "      <td>S</td>\n",
       "      <td>1</td>\n",
       "    </tr>\n",
       "    <tr>\n",
       "      <th>3</th>\n",
       "      <td>1</td>\n",
       "      <td>Futrelle, Mrs. Jacques Heath (Lily May Peel)</td>\n",
       "      <td>female</td>\n",
       "      <td>35.0</td>\n",
       "      <td>1</td>\n",
       "      <td>0</td>\n",
       "      <td>113803</td>\n",
       "      <td>S</td>\n",
       "      <td>1</td>\n",
       "    </tr>\n",
       "    <tr>\n",
       "      <th>4</th>\n",
       "      <td>3</td>\n",
       "      <td>Allen, Mr. William Henry</td>\n",
       "      <td>male</td>\n",
       "      <td>35.0</td>\n",
       "      <td>0</td>\n",
       "      <td>0</td>\n",
       "      <td>373450</td>\n",
       "      <td>S</td>\n",
       "      <td>0</td>\n",
       "    </tr>\n",
       "    <tr>\n",
       "      <th>5</th>\n",
       "      <td>3</td>\n",
       "      <td>Moran, Mr. James</td>\n",
       "      <td>male</td>\n",
       "      <td>28.0</td>\n",
       "      <td>0</td>\n",
       "      <td>0</td>\n",
       "      <td>330877</td>\n",
       "      <td>Q</td>\n",
       "      <td>0</td>\n",
       "    </tr>\n",
       "    <tr>\n",
       "      <th>6</th>\n",
       "      <td>1</td>\n",
       "      <td>McCarthy, Mr. Timothy J</td>\n",
       "      <td>male</td>\n",
       "      <td>54.0</td>\n",
       "      <td>0</td>\n",
       "      <td>0</td>\n",
       "      <td>17463</td>\n",
       "      <td>S</td>\n",
       "      <td>0</td>\n",
       "    </tr>\n",
       "    <tr>\n",
       "      <th>7</th>\n",
       "      <td>3</td>\n",
       "      <td>Palsson, Master. Gosta Leonard</td>\n",
       "      <td>male</td>\n",
       "      <td>2.0</td>\n",
       "      <td>3</td>\n",
       "      <td>1</td>\n",
       "      <td>349909</td>\n",
       "      <td>S</td>\n",
       "      <td>0</td>\n",
       "    </tr>\n",
       "    <tr>\n",
       "      <th>8</th>\n",
       "      <td>3</td>\n",
       "      <td>Johnson, Mrs. Oscar W (Elisabeth Vilhelmina Berg)</td>\n",
       "      <td>female</td>\n",
       "      <td>27.0</td>\n",
       "      <td>0</td>\n",
       "      <td>2</td>\n",
       "      <td>347742</td>\n",
       "      <td>S</td>\n",
       "      <td>1</td>\n",
       "    </tr>\n",
       "    <tr>\n",
       "      <th>9</th>\n",
       "      <td>2</td>\n",
       "      <td>Nasser, Mrs. Nicholas (Adele Achem)</td>\n",
       "      <td>female</td>\n",
       "      <td>14.0</td>\n",
       "      <td>1</td>\n",
       "      <td>0</td>\n",
       "      <td>237736</td>\n",
       "      <td>C</td>\n",
       "      <td>1</td>\n",
       "    </tr>\n",
       "  </tbody>\n",
       "</table>\n",
       "</div>"
      ],
      "text/plain": [
       "   Pclass                                               Name     Sex   Age  \\\n",
       "0       3                            Braund, Mr. Owen Harris    male  22.0   \n",
       "1       1  Cumings, Mrs. John Bradley (Florence Briggs Th...  female  38.0   \n",
       "2       3                             Heikkinen, Miss. Laina  female  26.0   \n",
       "3       1       Futrelle, Mrs. Jacques Heath (Lily May Peel)  female  35.0   \n",
       "4       3                           Allen, Mr. William Henry    male  35.0   \n",
       "5       3                                   Moran, Mr. James    male  28.0   \n",
       "6       1                            McCarthy, Mr. Timothy J    male  54.0   \n",
       "7       3                     Palsson, Master. Gosta Leonard    male   2.0   \n",
       "8       3  Johnson, Mrs. Oscar W (Elisabeth Vilhelmina Berg)  female  27.0   \n",
       "9       2                Nasser, Mrs. Nicholas (Adele Achem)  female  14.0   \n",
       "\n",
       "   SibSp  Parch            Ticket Embarked  Survived  \n",
       "0      1      0         A/5 21171        S         0  \n",
       "1      1      0          PC 17599        C         1  \n",
       "2      0      0  STON/O2. 3101282        S         1  \n",
       "3      1      0            113803        S         1  \n",
       "4      0      0            373450        S         0  \n",
       "5      0      0            330877        Q         0  \n",
       "6      0      0             17463        S         0  \n",
       "7      3      1            349909        S         0  \n",
       "8      0      2            347742        S         1  \n",
       "9      1      0            237736        C         1  "
      ]
     },
     "execution_count": 1,
     "metadata": {},
     "output_type": "execute_result"
    }
   ],
   "source": [
    "import pandas as pd  # 판다스 라이브러리 임포트\n",
    "file_url =  'https://media.githubusercontent.com/media/musthave-ML10/data_source/main/titanic.csv'\n",
    "df = pd.read_csv(file_url)  # 데이터셋 df 읽기\n",
    "\n",
    "df.head(10)  # 위에서 10번째 데이터 읽기"
   ]
  },
  {
   "cell_type": "code",
   "execution_count": 2,
   "id": "710da137-e5c0-468c-95c7-97ea5b3de4b2",
   "metadata": {},
   "outputs": [
    {
     "data": {
      "text/html": [
       "<div>\n",
       "<style scoped>\n",
       "    .dataframe tbody tr th:only-of-type {\n",
       "        vertical-align: middle;\n",
       "    }\n",
       "\n",
       "    .dataframe tbody tr th {\n",
       "        vertical-align: top;\n",
       "    }\n",
       "\n",
       "    .dataframe thead th {\n",
       "        text-align: right;\n",
       "    }\n",
       "</style>\n",
       "<table border=\"1\" class=\"dataframe\">\n",
       "  <thead>\n",
       "    <tr style=\"text-align: right;\">\n",
       "      <th></th>\n",
       "      <th>Pclass</th>\n",
       "      <th>Age</th>\n",
       "      <th>SibSp</th>\n",
       "      <th>Parch</th>\n",
       "      <th>Survived</th>\n",
       "    </tr>\n",
       "  </thead>\n",
       "  <tbody>\n",
       "    <tr>\n",
       "      <th>count</th>\n",
       "      <td>889.000000</td>\n",
       "      <td>889.000000</td>\n",
       "      <td>889.000000</td>\n",
       "      <td>889.000000</td>\n",
       "      <td>889.000000</td>\n",
       "    </tr>\n",
       "    <tr>\n",
       "      <th>mean</th>\n",
       "      <td>2.311586</td>\n",
       "      <td>29.315152</td>\n",
       "      <td>0.524184</td>\n",
       "      <td>0.382452</td>\n",
       "      <td>0.382452</td>\n",
       "    </tr>\n",
       "    <tr>\n",
       "      <th>std</th>\n",
       "      <td>0.834700</td>\n",
       "      <td>12.984932</td>\n",
       "      <td>1.103705</td>\n",
       "      <td>0.806761</td>\n",
       "      <td>0.486260</td>\n",
       "    </tr>\n",
       "    <tr>\n",
       "      <th>min</th>\n",
       "      <td>1.000000</td>\n",
       "      <td>0.420000</td>\n",
       "      <td>0.000000</td>\n",
       "      <td>0.000000</td>\n",
       "      <td>0.000000</td>\n",
       "    </tr>\n",
       "    <tr>\n",
       "      <th>25%</th>\n",
       "      <td>2.000000</td>\n",
       "      <td>22.000000</td>\n",
       "      <td>0.000000</td>\n",
       "      <td>0.000000</td>\n",
       "      <td>0.000000</td>\n",
       "    </tr>\n",
       "    <tr>\n",
       "      <th>50%</th>\n",
       "      <td>3.000000</td>\n",
       "      <td>28.000000</td>\n",
       "      <td>0.000000</td>\n",
       "      <td>0.000000</td>\n",
       "      <td>0.000000</td>\n",
       "    </tr>\n",
       "    <tr>\n",
       "      <th>75%</th>\n",
       "      <td>3.000000</td>\n",
       "      <td>35.000000</td>\n",
       "      <td>1.000000</td>\n",
       "      <td>0.000000</td>\n",
       "      <td>1.000000</td>\n",
       "    </tr>\n",
       "    <tr>\n",
       "      <th>max</th>\n",
       "      <td>3.000000</td>\n",
       "      <td>80.000000</td>\n",
       "      <td>8.000000</td>\n",
       "      <td>6.000000</td>\n",
       "      <td>1.000000</td>\n",
       "    </tr>\n",
       "  </tbody>\n",
       "</table>\n",
       "</div>"
      ],
      "text/plain": [
       "           Pclass         Age       SibSp       Parch    Survived\n",
       "count  889.000000  889.000000  889.000000  889.000000  889.000000\n",
       "mean     2.311586   29.315152    0.524184    0.382452    0.382452\n",
       "std      0.834700   12.984932    1.103705    0.806761    0.486260\n",
       "min      1.000000    0.420000    0.000000    0.000000    0.000000\n",
       "25%      2.000000   22.000000    0.000000    0.000000    0.000000\n",
       "50%      3.000000   28.000000    0.000000    0.000000    0.000000\n",
       "75%      3.000000   35.000000    1.000000    0.000000    1.000000\n",
       "max      3.000000   80.000000    8.000000    6.000000    1.000000"
      ]
     },
     "execution_count": 2,
     "metadata": {},
     "output_type": "execute_result"
    }
   ],
   "source": [
    "# 통계 정보 출력\n",
    "df.describe()\n",
    "\n",
    "# 클래스 3가지 , 75%가 35세 미만, 대부분 혼자 여행"
   ]
  },
  {
   "cell_type": "code",
   "execution_count": 3,
   "id": "b4fc6d44-c1aa-41a9-bd3d-120c943eb124",
   "metadata": {},
   "outputs": [],
   "source": [
    "# 피어슨 상관관계 출력\n",
    "# df.select_dtypes(include='number').corr()"
   ]
  },
  {
   "cell_type": "code",
   "execution_count": 4,
   "id": "fb947ec0-ddc4-436c-a20b-38a492e0e208",
   "metadata": {},
   "outputs": [
    {
     "name": "stdout",
     "output_type": "stream",
     "text": [
      "            Pclass       Age     SibSp     Parch  Survived\n",
      "Pclass    1.000000 -0.336512  0.081656  0.016824 -0.335549\n",
      "Age      -0.336512  1.000000 -0.232543 -0.171485 -0.069822\n",
      "SibSp     0.081656 -0.232543  1.000000  0.414542 -0.034040\n",
      "Parch     0.016824 -0.171485  0.414542  1.000000  0.083151\n",
      "Survived -0.335549 -0.069822 -0.034040  0.083151  1.000000\n"
     ]
    }
   ],
   "source": [
    "#상관관계 코드를 변수로 \n",
    "correlation_matrix = df.select_dtypes(include=['number']).corr()\n",
    "print(correlation_matrix)"
   ]
  },
  {
   "cell_type": "code",
   "execution_count": 5,
   "id": "cc2e9424-b2f4-4d44-aca3-6a563d85b14d",
   "metadata": {},
   "outputs": [
    {
     "data": {
      "image/png": "[encoded data removed]",
      "text/plain": [
       "<Figure size 640x480 with 2 Axes>"
      ]
     },
     "metadata": {},
     "output_type": "display_data"
    }
   ],
   "source": [
    "import matplotlib.pyplot as plt\n",
    "import seaborn as sns\n",
    "sns.heatmap(correlation_matrix)   # 히트맵 생성\n",
    "plt.show()"
   ]
  },
  {
   "cell_type": "code",
   "execution_count": 6,
   "id": "61f46eae-fa3c-415a-b287-017cf8bac418",
   "metadata": {},
   "outputs": [
    {
     "data": {
      "text/plain": [
       "<Axes: >"
      ]
     },
     "execution_count": 6,
     "metadata": {},
     "output_type": "execute_result"
    },
    {
     "data": {
      "image/png": "[encoded data removed]",
      "text/plain": [
       "<Figure size 640x480 with 2 Axes>"
      ]
     },
     "metadata": {},
     "output_type": "display_data"
    }
   ],
   "source": [
    "sns.heatmap(correlation_matrix, cmap = 'RdBu', vmin=-1, vmax=1, annot=True)\n",
    "# 양=뜨신 색 음=찬 색, 파라미터 최솟값과 최댓값 설정, 셀의 값 텍스트 형태 표시 O)"
   ]
  },
  {
   "cell_type": "code",
   "execution_count": 7,
   "id": "2d612fee-07dc-41b9-a8d6-0ecd4a5ef5db",
   "metadata": {},
   "outputs": [],
   "source": [
    "# 범주형 변수 변환 (더미 변수와 원-핫 인코딩)\n",
    "\n",
    "df = df.drop(['Name','Ticket'], axis=1)\n",
    "# 열 방향으로 삭제\n",
    "\n",
    "df = pd.get_dummies(df, columns = ['Sex', 'Embarked'], drop_first = True)\n",
    "#더미한 값을 df에 저장하기 / 첫번째 카테고리에 해당하는 더미 변수 삭제 - 다중공선성"
   ]
  },
  {
   "cell_type": "code",
   "execution_count": 8,
   "id": "5b689ee0-9a2e-433c-b9d5-b9830e7d2677",
   "metadata": {},
   "outputs": [
    {
     "name": "stdout",
     "output_type": "stream",
     "text": [
      "<class 'pandas.core.frame.DataFrame'>\n",
      "RangeIndex: 889 entries, 0 to 888\n",
      "Data columns (total 8 columns):\n",
      " #   Column      Non-Null Count  Dtype  \n",
      "---  ------      --------------  -----  \n",
      " 0   Pclass      889 non-null    int64  \n",
      " 1   Age         889 non-null    float64\n",
      " 2   SibSp       889 non-null    int64  \n",
      " 3   Parch       889 non-null    int64  \n",
      " 4   Survived    889 non-null    int64  \n",
      " 5   Sex_male    889 non-null    bool   \n",
      " 6   Embarked_Q  889 non-null    bool   \n",
      " 7   Embarked_S  889 non-null    bool   \n",
      "dtypes: bool(3), float64(1), int64(4)\n",
      "memory usage: 37.5 KB\n"
     ]
    }
   ],
   "source": [
    "df.info()"
   ]
  },
  {
   "cell_type": "code",
   "execution_count": 9,
   "id": "0942b7a3-3255-48fb-a4b3-838090da7dfd",
   "metadata": {},
   "outputs": [
    {
     "data": {
      "text/plain": [
       "0.7808988764044944"
      ]
     },
     "execution_count": 9,
     "metadata": {},
     "output_type": "execute_result"
    }
   ],
   "source": [
    "from sklearn.model_selection import train_test_split\n",
    "X = df.drop('Survived', axis = 1) # 데이터셋에서 종속변수 제거 후 저장\n",
    "y = df['Survived']                # 데이터셋에서종속변수만저장\n",
    "X_train, X_test, y_train, y_test = train_test_split(X, y, test_size = 0.2, random_state = 100) # 학습셋, 시험셋 분리\n",
    "from sklearn.linear_model import LogisticRegression # 로지스틱 회귀 임포트\n",
    "model = LogisticRegression() # 로지스틱 회귀 모델 생성\n",
    "model.fit(X_train, y_train) # 모델 학습\n",
    "pred = model.predict(X_test) # 예측\n",
    "from sklearn.metrics import accuracy_score # 정확도 라이브러리 임포트\n",
    "accuracy_score(y_test, pred) # 실젯값과 예측값으로 정확도 계산"
   ]
  },
  {
   "cell_type": "code",
   "execution_count": 10,
   "id": "831c8eb9-20e5-41be-a6da-a4241ec24453",
   "metadata": {},
   "outputs": [
    {
     "data": {
      "text/plain": [
       "Pclass       -1.182269\n",
       "Age          -0.039923\n",
       "SibSp        -0.321323\n",
       "Parch         0.007930\n",
       "Sex_male     -2.568671\n",
       "Embarked_Q   -0.078756\n",
       "Embarked_S   -0.235564\n",
       "dtype: float64"
      ]
     },
     "execution_count": 10,
     "metadata": {},
     "output_type": "execute_result"
    }
   ],
   "source": [
    "model.coef_\n",
    "# 로지스틱 회귀 모델의 계수\n",
    "pd.Series(model.coef_[0], index = X.columns)"
   ]
  },
  {
   "cell_type": "code",
   "execution_count": 12,
   "id": "b7432c9c-257a-47ff-860e-75168515f42b",
   "metadata": {},
   "outputs": [],
   "source": [
    "# 객실 등급이 높을 수록 생존확률 높\n",
    "# 나이 많은 수록 생존확률 낮\n",
    "# 가족 많을 수록 생존확률 낮\n",
    "# 남성일수록 생존확률 낮\n",
    "# Q 항구에 탑승한 경우 생존확률 낮\n",
    "# S 항구에 탑승한 경우 생존확률 낮\n",
    "\n",
    "# 로짓값이 1에 가까울수록 해당 특성이 생존확률에 미치는 영향이 큼 \n",
    "# 1에 가까운 양수 : 생존 확률이 크게 증가\n",
    "# 1에 가까운 음수 : 생존 확률이 크게 감소     -> Sex_male 절댓값이 가장 크므로 생존확률에 영향 다수 미침"
   ]
  },
  {
   "cell_type": "code",
   "execution_count": 11,
   "id": "9332a449-30f6-4d31-ba75-5928756702a0",
   "metadata": {},
   "outputs": [
    {
     "data": {
      "text/html": [
       "<div>\n",
       "<style scoped>\n",
       "    .dataframe tbody tr th:only-of-type {\n",
       "        vertical-align: middle;\n",
       "    }\n",
       "\n",
       "    .dataframe tbody tr th {\n",
       "        vertical-align: top;\n",
       "    }\n",
       "\n",
       "    .dataframe thead th {\n",
       "        text-align: right;\n",
       "    }\n",
       "</style>\n",
       "<table border=\"1\" class=\"dataframe\">\n",
       "  <thead>\n",
       "    <tr style=\"text-align: right;\">\n",
       "      <th></th>\n",
       "      <th>Pclass</th>\n",
       "      <th>Age</th>\n",
       "      <th>Survived</th>\n",
       "      <th>Sex_male</th>\n",
       "      <th>Embarked_Q</th>\n",
       "      <th>Embarked_S</th>\n",
       "      <th>family</th>\n",
       "    </tr>\n",
       "  </thead>\n",
       "  <tbody>\n",
       "    <tr>\n",
       "      <th>0</th>\n",
       "      <td>3</td>\n",
       "      <td>22.0</td>\n",
       "      <td>0</td>\n",
       "      <td>True</td>\n",
       "      <td>False</td>\n",
       "      <td>True</td>\n",
       "      <td>1</td>\n",
       "    </tr>\n",
       "    <tr>\n",
       "      <th>1</th>\n",
       "      <td>1</td>\n",
       "      <td>38.0</td>\n",
       "      <td>1</td>\n",
       "      <td>False</td>\n",
       "      <td>False</td>\n",
       "      <td>False</td>\n",
       "      <td>1</td>\n",
       "    </tr>\n",
       "    <tr>\n",
       "      <th>2</th>\n",
       "      <td>3</td>\n",
       "      <td>26.0</td>\n",
       "      <td>1</td>\n",
       "      <td>False</td>\n",
       "      <td>False</td>\n",
       "      <td>True</td>\n",
       "      <td>0</td>\n",
       "    </tr>\n",
       "    <tr>\n",
       "      <th>3</th>\n",
       "      <td>1</td>\n",
       "      <td>35.0</td>\n",
       "      <td>1</td>\n",
       "      <td>False</td>\n",
       "      <td>False</td>\n",
       "      <td>True</td>\n",
       "      <td>1</td>\n",
       "    </tr>\n",
       "    <tr>\n",
       "      <th>4</th>\n",
       "      <td>3</td>\n",
       "      <td>35.0</td>\n",
       "      <td>0</td>\n",
       "      <td>True</td>\n",
       "      <td>False</td>\n",
       "      <td>True</td>\n",
       "      <td>0</td>\n",
       "    </tr>\n",
       "    <tr>\n",
       "      <th>5</th>\n",
       "      <td>3</td>\n",
       "      <td>28.0</td>\n",
       "      <td>0</td>\n",
       "      <td>True</td>\n",
       "      <td>True</td>\n",
       "      <td>False</td>\n",
       "      <td>0</td>\n",
       "    </tr>\n",
       "    <tr>\n",
       "      <th>6</th>\n",
       "      <td>1</td>\n",
       "      <td>54.0</td>\n",
       "      <td>0</td>\n",
       "      <td>True</td>\n",
       "      <td>False</td>\n",
       "      <td>True</td>\n",
       "      <td>0</td>\n",
       "    </tr>\n",
       "    <tr>\n",
       "      <th>7</th>\n",
       "      <td>3</td>\n",
       "      <td>2.0</td>\n",
       "      <td>0</td>\n",
       "      <td>True</td>\n",
       "      <td>False</td>\n",
       "      <td>True</td>\n",
       "      <td>4</td>\n",
       "    </tr>\n",
       "    <tr>\n",
       "      <th>8</th>\n",
       "      <td>3</td>\n",
       "      <td>27.0</td>\n",
       "      <td>1</td>\n",
       "      <td>False</td>\n",
       "      <td>False</td>\n",
       "      <td>True</td>\n",
       "      <td>2</td>\n",
       "    </tr>\n",
       "    <tr>\n",
       "      <th>9</th>\n",
       "      <td>2</td>\n",
       "      <td>14.0</td>\n",
       "      <td>1</td>\n",
       "      <td>False</td>\n",
       "      <td>False</td>\n",
       "      <td>False</td>\n",
       "      <td>1</td>\n",
       "    </tr>\n",
       "  </tbody>\n",
       "</table>\n",
       "</div>"
      ],
      "text/plain": [
       "   Pclass   Age  Survived  Sex_male  Embarked_Q  Embarked_S  family\n",
       "0       3  22.0         0      True       False        True       1\n",
       "1       1  38.0         1     False       False       False       1\n",
       "2       3  26.0         1     False       False        True       0\n",
       "3       1  35.0         1     False       False        True       1\n",
       "4       3  35.0         0      True       False        True       0\n",
       "5       3  28.0         0      True        True       False       0\n",
       "6       1  54.0         0      True       False        True       0\n",
       "7       3   2.0         0      True       False        True       4\n",
       "8       3  27.0         1     False       False        True       2\n",
       "9       2  14.0         1     False       False       False       1"
      ]
     },
     "execution_count": 11,
     "metadata": {},
     "output_type": "execute_result"
    }
   ],
   "source": [
    "df['family'] = df['SibSp'] + df['Parch']  # 변수 합치기\n",
    "df.drop(['SibSp', 'Parch'], axis = 1, inplace= True) # 합친 변수 삭제\n",
    "df.head(10)"
   ]
  },
  {
   "cell_type": "code",
   "execution_count": 23,
   "id": "31393c70-cd1d-4b9c-8539-dd52aeded5d8",
   "metadata": {},
   "outputs": [
    {
     "data": {
      "text/plain": [
       "0.7921348314606742"
      ]
     },
     "execution_count": 23,
     "metadata": {},
     "output_type": "execute_result"
    }
   ],
   "source": [
    "X = df.drop('Survived', axis = 1)\n",
    "y = df['Survived']\n",
    "X_train, X_test, y_train, y_test = train_test_split(X, y, test_size = 0.2,\n",
    "random_state = 100) # 학습셋, 시험셋 준비\n",
    "model = LogisticRegression() # 모델 생성\n",
    "model.fit(X_train, y_train) # 학습\n",
    "pred = model.predict(X_test) # 예측\n",
    "accuracy_score(y_test, pred) # 정확도 계산"
   ]
  },
  {
   "cell_type": "code",
   "execution_count": null,
   "id": "d93cde66-72de-42f4-ba47-26a9a78ba1db",
   "metadata": {},
   "outputs": [],
   "source": []
  }
 ],
 "metadata": {
  "kernelspec": {
   "display_name": "Python 3 (ipykernel)",
   "language": "python",
   "name": "python3"
  },
  "language_info": {
   "codemirror_mode": {
    "name": "ipython",
    "version": 3
   },
   "file_extension": ".py",
   "mimetype": "text/x-python",
   "name": "python",
   "nbconvert_exporter": "python",
   "pygments_lexer": "ipython3",
   "version": "3.12.9"
  }
 },
 "nbformat": 4,
 "nbformat_minor": 5
}
