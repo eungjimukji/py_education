{
 "cells": [
  {
   "cell_type": "markdown",
   "id": "73d5a83c-ebbe-415e-ac06-e3aa8f340fe3",
   "metadata": {},
   "source": [
    "## 의료보험데이터를 이용한 의료 보험 비용 예측"
   ]
  },
  {
   "cell_type": "markdown",
   "id": "bdf6eba8-c1e2-4b91-8ffb-8d2dd2903467",
   "metadata": {},
   "source": [
    "### 데이터 읽어들인 후 종속변수와 독립변수 체크"
   ]
  },
  {
   "cell_type": "code",
   "execution_count": 1,
   "id": "2087206c-20a3-4445-8fc3-86ed8cc7e6cc",
   "metadata": {},
   "outputs": [],
   "source": [
    "# 라이브러리\n",
    "import pandas as pd\n",
    "import statsmodels.api as sm\n",
    "from statsmodels.formula.api import ols\n",
    "from sklearn.linear_model import LinearRegression\n"
   ]
  },
  {
   "cell_type": "code",
   "execution_count": 2,
   "id": "743bd8dd-2bde-404d-be47-58aaab8dd4e4",
   "metadata": {},
   "outputs": [
    {
     "data": {
      "text/html": [
       "<div>\n",
       "<style scoped>\n",
       "    .dataframe tbody tr th:only-of-type {\n",
       "        vertical-align: middle;\n",
       "    }\n",
       "\n",
       "    .dataframe tbody tr th {\n",
       "        vertical-align: top;\n",
       "    }\n",
       "\n",
       "    .dataframe thead th {\n",
       "        text-align: right;\n",
       "    }\n",
       "</style>\n",
       "<table border=\"1\" class=\"dataframe\">\n",
       "  <thead>\n",
       "    <tr style=\"text-align: right;\">\n",
       "      <th></th>\n",
       "      <th>age</th>\n",
       "      <th>sex</th>\n",
       "      <th>bmi</th>\n",
       "      <th>children</th>\n",
       "      <th>smoker</th>\n",
       "      <th>region</th>\n",
       "      <th>charges</th>\n",
       "    </tr>\n",
       "  </thead>\n",
       "  <tbody>\n",
       "    <tr>\n",
       "      <th>0</th>\n",
       "      <td>19</td>\n",
       "      <td>female</td>\n",
       "      <td>27.900</td>\n",
       "      <td>0</td>\n",
       "      <td>yes</td>\n",
       "      <td>southwest</td>\n",
       "      <td>16884.92400</td>\n",
       "    </tr>\n",
       "    <tr>\n",
       "      <th>1</th>\n",
       "      <td>18</td>\n",
       "      <td>male</td>\n",
       "      <td>33.770</td>\n",
       "      <td>1</td>\n",
       "      <td>no</td>\n",
       "      <td>southeast</td>\n",
       "      <td>1725.55230</td>\n",
       "    </tr>\n",
       "    <tr>\n",
       "      <th>2</th>\n",
       "      <td>28</td>\n",
       "      <td>male</td>\n",
       "      <td>33.000</td>\n",
       "      <td>3</td>\n",
       "      <td>no</td>\n",
       "      <td>southeast</td>\n",
       "      <td>4449.46200</td>\n",
       "    </tr>\n",
       "    <tr>\n",
       "      <th>3</th>\n",
       "      <td>33</td>\n",
       "      <td>male</td>\n",
       "      <td>22.705</td>\n",
       "      <td>0</td>\n",
       "      <td>no</td>\n",
       "      <td>northwest</td>\n",
       "      <td>21984.47061</td>\n",
       "    </tr>\n",
       "    <tr>\n",
       "      <th>4</th>\n",
       "      <td>32</td>\n",
       "      <td>male</td>\n",
       "      <td>28.880</td>\n",
       "      <td>0</td>\n",
       "      <td>no</td>\n",
       "      <td>northwest</td>\n",
       "      <td>3866.85520</td>\n",
       "    </tr>\n",
       "  </tbody>\n",
       "</table>\n",
       "</div>"
      ],
      "text/plain": [
       "   age     sex     bmi  children smoker     region      charges\n",
       "0   19  female  27.900         0    yes  southwest  16884.92400\n",
       "1   18    male  33.770         1     no  southeast   1725.55230\n",
       "2   28    male  33.000         3     no  southeast   4449.46200\n",
       "3   33    male  22.705         0     no  northwest  21984.47061\n",
       "4   32    male  28.880         0     no  northwest   3866.85520"
      ]
     },
     "execution_count": 2,
     "metadata": {},
     "output_type": "execute_result"
    }
   ],
   "source": [
    "df = pd.read_csv('./insurance.csv')\n",
    "df.head()"
   ]
  },
  {
   "cell_type": "code",
   "execution_count": 25,
   "id": "9ba57740-9720-4299-ba3b-dce37ffc1101",
   "metadata": {},
   "outputs": [],
   "source": [
    "# 나이, 성별, 체질량지수, 자녀수, 흡연여부, 거주지역 = 독립변수\n",
    "# 의료보험료 = 종속변수"
   ]
  },
  {
   "cell_type": "code",
   "execution_count": 26,
   "id": "781e77f1-db2f-4e76-a3f8-d3bf129a8ed8",
   "metadata": {},
   "outputs": [
    {
     "name": "stdout",
     "output_type": "stream",
     "text": [
      "<class 'pandas.core.frame.DataFrame'>\n",
      "RangeIndex: 1338 entries, 0 to 1337\n",
      "Data columns (total 7 columns):\n",
      " #   Column    Non-Null Count  Dtype  \n",
      "---  ------    --------------  -----  \n",
      " 0   age       1338 non-null   int64  \n",
      " 1   sex       1338 non-null   object \n",
      " 2   bmi       1338 non-null   float64\n",
      " 3   children  1338 non-null   int64  \n",
      " 4   smoker    1338 non-null   object \n",
      " 5   region    1338 non-null   object \n",
      " 6   charges   1338 non-null   float64\n",
      "dtypes: float64(2), int64(2), object(3)\n",
      "memory usage: 73.3+ KB\n"
     ]
    }
   ],
   "source": [
    "df.info()"
   ]
  },
  {
   "cell_type": "code",
   "execution_count": 27,
   "id": "4e5615a2-95b7-430f-ad1c-028c40a1f6b4",
   "metadata": {},
   "outputs": [
    {
     "data": {
      "text/plain": [
       "age         0\n",
       "sex         0\n",
       "bmi         0\n",
       "children    0\n",
       "smoker      0\n",
       "region      0\n",
       "charges     0\n",
       "dtype: int64"
      ]
     },
     "execution_count": 27,
     "metadata": {},
     "output_type": "execute_result"
    }
   ],
   "source": [
    "# 결측치 수 재확인\n",
    "df.isnull().sum() "
   ]
  },
  {
   "cell_type": "code",
   "execution_count": 28,
   "id": "2640c7ec-8027-4cf5-a3ac-f42ea8267a47",
   "metadata": {},
   "outputs": [
    {
     "data": {
      "text/html": [
       "<div>\n",
       "<style scoped>\n",
       "    .dataframe tbody tr th:only-of-type {\n",
       "        vertical-align: middle;\n",
       "    }\n",
       "\n",
       "    .dataframe tbody tr th {\n",
       "        vertical-align: top;\n",
       "    }\n",
       "\n",
       "    .dataframe thead th {\n",
       "        text-align: right;\n",
       "    }\n",
       "</style>\n",
       "<table border=\"1\" class=\"dataframe\">\n",
       "  <thead>\n",
       "    <tr style=\"text-align: right;\">\n",
       "      <th></th>\n",
       "      <th>age</th>\n",
       "      <th>bmi</th>\n",
       "      <th>children</th>\n",
       "      <th>charges</th>\n",
       "    </tr>\n",
       "  </thead>\n",
       "  <tbody>\n",
       "    <tr>\n",
       "      <th>count</th>\n",
       "      <td>1338.000000</td>\n",
       "      <td>1338.000000</td>\n",
       "      <td>1338.000000</td>\n",
       "      <td>1338.000000</td>\n",
       "    </tr>\n",
       "    <tr>\n",
       "      <th>mean</th>\n",
       "      <td>39.207025</td>\n",
       "      <td>30.663397</td>\n",
       "      <td>1.094918</td>\n",
       "      <td>13270.422265</td>\n",
       "    </tr>\n",
       "    <tr>\n",
       "      <th>std</th>\n",
       "      <td>14.049960</td>\n",
       "      <td>6.098187</td>\n",
       "      <td>1.205493</td>\n",
       "      <td>12110.011237</td>\n",
       "    </tr>\n",
       "    <tr>\n",
       "      <th>min</th>\n",
       "      <td>18.000000</td>\n",
       "      <td>15.960000</td>\n",
       "      <td>0.000000</td>\n",
       "      <td>1121.873900</td>\n",
       "    </tr>\n",
       "    <tr>\n",
       "      <th>25%</th>\n",
       "      <td>27.000000</td>\n",
       "      <td>26.296250</td>\n",
       "      <td>0.000000</td>\n",
       "      <td>4740.287150</td>\n",
       "    </tr>\n",
       "    <tr>\n",
       "      <th>50%</th>\n",
       "      <td>39.000000</td>\n",
       "      <td>30.400000</td>\n",
       "      <td>1.000000</td>\n",
       "      <td>9382.033000</td>\n",
       "    </tr>\n",
       "    <tr>\n",
       "      <th>75%</th>\n",
       "      <td>51.000000</td>\n",
       "      <td>34.693750</td>\n",
       "      <td>2.000000</td>\n",
       "      <td>16639.912515</td>\n",
       "    </tr>\n",
       "    <tr>\n",
       "      <th>max</th>\n",
       "      <td>64.000000</td>\n",
       "      <td>53.130000</td>\n",
       "      <td>5.000000</td>\n",
       "      <td>63770.428010</td>\n",
       "    </tr>\n",
       "  </tbody>\n",
       "</table>\n",
       "</div>"
      ],
      "text/plain": [
       "               age          bmi     children       charges\n",
       "count  1338.000000  1338.000000  1338.000000   1338.000000\n",
       "mean     39.207025    30.663397     1.094918  13270.422265\n",
       "std      14.049960     6.098187     1.205493  12110.011237\n",
       "min      18.000000    15.960000     0.000000   1121.873900\n",
       "25%      27.000000    26.296250     0.000000   4740.287150\n",
       "50%      39.000000    30.400000     1.000000   9382.033000\n",
       "75%      51.000000    34.693750     2.000000  16639.912515\n",
       "max      64.000000    53.130000     5.000000  63770.428010"
      ]
     },
     "execution_count": 28,
     "metadata": {},
     "output_type": "execute_result"
    }
   ],
   "source": [
    "df.describe()"
   ]
  },
  {
   "cell_type": "markdown",
   "id": "4d869748-3e52-43f3-8174-84dc6f97b59d",
   "metadata": {},
   "source": [
    "### 선형 회귀 이전 charges ~ age + sex + bmi + children + smoker + region 입력"
   ]
  },
  {
   "cell_type": "code",
   "execution_count": 29,
   "id": "46698217-eafb-4616-9108-f591bfcc3be5",
   "metadata": {},
   "outputs": [
    {
     "name": "stdout",
     "output_type": "stream",
     "text": [
      "                            OLS Regression Results                            \n",
      "==============================================================================\n",
      "Dep. Variable:                charges   R-squared:                       0.751\n",
      "Model:                            OLS   Adj. R-squared:                  0.749\n",
      "Method:                 Least Squares   F-statistic:                     500.8\n",
      "Date:                Sun, 04 May 2025   Prob (F-statistic):               0.00\n",
      "Time:                        17:08:17   Log-Likelihood:                -13548.\n",
      "No. Observations:                1338   AIC:                         2.711e+04\n",
      "Df Residuals:                    1329   BIC:                         2.716e+04\n",
      "Df Model:                           8                                         \n",
      "Covariance Type:            nonrobust                                         \n",
      "=======================================================================================\n",
      "                          coef    std err          t      P>|t|      [0.025      0.975]\n",
      "---------------------------------------------------------------------------------------\n",
      "Intercept           -1.194e+04    987.819    -12.086      0.000   -1.39e+04      -1e+04\n",
      "sex[T.male]          -131.3144    332.945     -0.394      0.693    -784.470     521.842\n",
      "smoker[T.yes]        2.385e+04    413.153     57.723      0.000     2.3e+04    2.47e+04\n",
      "region[T.northwest]  -352.9639    476.276     -0.741      0.459   -1287.298     581.370\n",
      "region[T.southeast] -1035.0220    478.692     -2.162      0.031   -1974.097     -95.947\n",
      "region[T.southwest]  -960.0510    477.933     -2.009      0.045   -1897.636     -22.466\n",
      "age                   256.8564     11.899     21.587      0.000     233.514     280.199\n",
      "bmi                   339.1935     28.599     11.860      0.000     283.088     395.298\n",
      "children              475.5005    137.804      3.451      0.001     205.163     745.838\n",
      "==============================================================================\n",
      "Omnibus:                      300.366   Durbin-Watson:                   2.088\n",
      "Prob(Omnibus):                  0.000   Jarque-Bera (JB):              718.887\n",
      "Skew:                           1.211   Prob(JB):                    7.86e-157\n",
      "Kurtosis:                       5.651   Cond. No.                         311.\n",
      "==============================================================================\n",
      "\n",
      "Notes:\n",
      "[1] Standard Errors assume that the covariance matrix of the errors is correctly specified.\n"
     ]
    }
   ],
   "source": [
    "fit=ols('charges ~ age + sex + bmi + children + smoker + region', data=df).fit()\n",
    "print(fit.summary())"
   ]
  },
  {
   "cell_type": "markdown",
   "id": "0fc0a9de-85c4-4703-b962-0f466f5e63ce",
   "metadata": {},
   "source": [
    "- R-squared : 0.751 선형 회귀모형의 설명력이 75.1%이다.\n",
    "- Adj. R-squared : 0.749 변수의 수를 보정한 설명력으로 과적합 위험을 줄여주며 우수한 수준이다.\n",
    "- sex는 p값이 0.5보다 높아 보험료에 유의미한 영향 x  / 흡연자가 비흡연자에 비해 2.4만달러 높음\n",
    "- smoker p값이 0.001보다 작아 보혐료에 강한 양의 영향 끼침\n",
    "- region 지역도 기준 대비 유의미한 영향 x\n",
    "- age 나이가 많을 수록 보험료 증가           /  1살 증가 시 약 257달러 증가\n",
    "- bmi 체질량지수 증가 시 보험료 증가        / 수치가 1 오를 시 약 339달러 증가 \n",
    "- childern 자녀가 많을 수록 보험료 증가     / 자녀 1명당 약 476달러 증가"
   ]
  },
  {
   "cell_type": "markdown",
   "id": "4ace30d7-bb12-40b7-894d-c6dd249f36e8",
   "metadata": {},
   "source": [
    "회귀식 : Charges = -11,940 + ( 23,850 )*smoker + ( 256.8564 )*age + ( 339.1935 )*bmi + ( 475.5005 )*children"
   ]
  },
  {
   "cell_type": "markdown",
   "id": "dafc0f36-6f41-4339-9f13-dcbbf7e6ec10",
   "metadata": {},
   "source": [
    "### 선형 회귀 "
   ]
  },
  {
   "cell_type": "code",
   "execution_count": 9,
   "id": "611fe9e6-d9be-44c2-b74a-db12bce49d3c",
   "metadata": {},
   "outputs": [],
   "source": [
    "X = df.drop('charges', axis=1)\n",
    "y = df['charges']\n",
    "\n",
    "# One-Hot Encoding\n",
    "X_encoded = pd.get_dummies(X, drop_first=True)\n",
    "\n",
    "# 학습용/테스트용 분할\n",
    "X_train, X_test, y_train, y_test = train_test_split(X_encoded, y, test_size=0.2, random_state=42)\n",
    "\n",
    "# 모델 학습\n",
    "model = LinearRegression()\n",
    "model.fit(X_train, y_train)\n",
    "\n",
    "# 예측\n",
    "pred = model.predict(X_test)"
   ]
  },
  {
   "cell_type": "code",
   "execution_count": 10,
   "id": "0e355ead-ebcb-46d0-9717-67c5e4e37d10",
   "metadata": {},
   "outputs": [
    {
     "data": {
      "text/html": [
       "<div>\n",
       "<style scoped>\n",
       "    .dataframe tbody tr th:only-of-type {\n",
       "        vertical-align: middle;\n",
       "    }\n",
       "\n",
       "    .dataframe tbody tr th {\n",
       "        vertical-align: top;\n",
       "    }\n",
       "\n",
       "    .dataframe thead th {\n",
       "        text-align: right;\n",
       "    }\n",
       "</style>\n",
       "<table border=\"1\" class=\"dataframe\">\n",
       "  <thead>\n",
       "    <tr style=\"text-align: right;\">\n",
       "      <th></th>\n",
       "      <th>actual</th>\n",
       "      <th>pred</th>\n",
       "    </tr>\n",
       "  </thead>\n",
       "  <tbody>\n",
       "    <tr>\n",
       "      <th>764</th>\n",
       "      <td>9095.06825</td>\n",
       "      <td>8969.550274</td>\n",
       "    </tr>\n",
       "    <tr>\n",
       "      <th>887</th>\n",
       "      <td>5272.17580</td>\n",
       "      <td>7068.747443</td>\n",
       "    </tr>\n",
       "    <tr>\n",
       "      <th>890</th>\n",
       "      <td>29330.98315</td>\n",
       "      <td>36858.410912</td>\n",
       "    </tr>\n",
       "    <tr>\n",
       "      <th>1293</th>\n",
       "      <td>9301.89355</td>\n",
       "      <td>9454.678501</td>\n",
       "    </tr>\n",
       "    <tr>\n",
       "      <th>259</th>\n",
       "      <td>33750.29180</td>\n",
       "      <td>26973.173457</td>\n",
       "    </tr>\n",
       "    <tr>\n",
       "      <th>...</th>\n",
       "      <td>...</td>\n",
       "      <td>...</td>\n",
       "    </tr>\n",
       "    <tr>\n",
       "      <th>109</th>\n",
       "      <td>47055.53210</td>\n",
       "      <td>39061.500932</td>\n",
       "    </tr>\n",
       "    <tr>\n",
       "      <th>575</th>\n",
       "      <td>12222.89830</td>\n",
       "      <td>11761.499198</td>\n",
       "    </tr>\n",
       "    <tr>\n",
       "      <th>535</th>\n",
       "      <td>6067.12675</td>\n",
       "      <td>7687.563632</td>\n",
       "    </tr>\n",
       "    <tr>\n",
       "      <th>543</th>\n",
       "      <td>63770.42801</td>\n",
       "      <td>40920.291512</td>\n",
       "    </tr>\n",
       "    <tr>\n",
       "      <th>846</th>\n",
       "      <td>9872.70100</td>\n",
       "      <td>12318.586653</td>\n",
       "    </tr>\n",
       "  </tbody>\n",
       "</table>\n",
       "<p>268 rows × 2 columns</p>\n",
       "</div>"
      ],
      "text/plain": [
       "           actual          pred\n",
       "764    9095.06825   8969.550274\n",
       "887    5272.17580   7068.747443\n",
       "890   29330.98315  36858.410912\n",
       "1293   9301.89355   9454.678501\n",
       "259   33750.29180  26973.173457\n",
       "...           ...           ...\n",
       "109   47055.53210  39061.500932\n",
       "575   12222.89830  11761.499198\n",
       "535    6067.12675   7687.563632\n",
       "543   63770.42801  40920.291512\n",
       "846    9872.70100  12318.586653\n",
       "\n",
       "[268 rows x 2 columns]"
      ]
     },
     "execution_count": 10,
     "metadata": {},
     "output_type": "execute_result"
    }
   ],
   "source": [
    "comparison = pd.DataFrame({'actual' : y_test, 'pred':pred})\n",
    "comparison"
   ]
  },
  {
   "cell_type": "code",
   "execution_count": 11,
   "id": "23e7824f-0760-4a64-bca3-fb7ab73a5d16",
   "metadata": {},
   "outputs": [
    {
     "data": {
      "text/plain": [
       "<Axes: xlabel='actual', ylabel='pred'>"
      ]
     },
     "execution_count": 11,
     "metadata": {},
     "output_type": "execute_result"
    },
    {
     "data": {
      "image/png": "[encoded data removed]",
      "text/plain": [
       "<Figure size 1000x1000 with 1 Axes>"
      ]
     },
     "metadata": {},
     "output_type": "display_data"
    }
   ],
   "source": [
    "import matplotlib.pyplot as plt\n",
    "import seaborn as sns\n",
    "\n",
    "plt.figure(figsize = (10,10))\n",
    "sns.scatterplot(x = 'actual', y='pred', data = comparison)"
   ]
  },
  {
   "cell_type": "code",
   "execution_count": 13,
   "id": "2dc2430c-9405-414d-9fa5-122834827655",
   "metadata": {},
   "outputs": [
    {
     "data": {
      "text/plain": [
       "5796.2846592762735"
      ]
     },
     "execution_count": 13,
     "metadata": {},
     "output_type": "execute_result"
    }
   ],
   "source": [
    "from sklearn.metrics import mean_squared_error\n",
    "mean_squared_error(y_test,pred) ** 0.5    # RMSE 실행"
   ]
  },
  {
   "cell_type": "code",
   "execution_count": 21,
   "id": "aec685a5-9f7a-422e-9ef9-e6d1287d4ee9",
   "metadata": {},
   "outputs": [
    {
     "data": {
      "text/plain": [
       "np.float64(5796.2846592762735)"
      ]
     },
     "execution_count": 21,
     "metadata": {},
     "output_type": "execute_result"
    }
   ],
   "source": [
    "import numpy as np\n",
    "\n",
    "np.sqrt(mean_squared_error(y_test, pred))  # 수동으로 계산"
   ]
  },
  {
   "cell_type": "code",
   "execution_count": 22,
   "id": "9d42e95a-98a1-46b1-aff1-0f8995439acc",
   "metadata": {},
   "outputs": [
    {
     "data": {
      "text/plain": [
       "0.7417255854683333"
      ]
     },
     "execution_count": 22,
     "metadata": {},
     "output_type": "execute_result"
    }
   ],
   "source": [
    "model.score(X_train, y_train)"
   ]
  },
  {
   "cell_type": "code",
   "execution_count": 24,
   "id": "6bd03977-dff7-4687-91c6-52e5055c09de",
   "metadata": {},
   "outputs": [
    {
     "name": "stdout",
     "output_type": "stream",
     "text": [
      "age                   int64\n",
      "bmi                 float64\n",
      "children              int64\n",
      "sex_male               bool\n",
      "smoker_yes             bool\n",
      "region_northwest       bool\n",
      "region_southeast       bool\n",
      "region_southwest       bool\n",
      "dtype: object\n"
     ]
    }
   ],
   "source": [
    "print(X_train.dtypes)"
   ]
  },
  {
   "cell_type": "code",
   "execution_count": 25,
   "id": "56b15f21-373a-4254-a2bb-b27c02171c8c",
   "metadata": {},
   "outputs": [
    {
     "name": "stdout",
     "output_type": "stream",
     "text": [
      "                            OLS Regression Results                            \n",
      "==============================================================================\n",
      "Dep. Variable:                charges   R-squared:                       0.742\n",
      "Model:                            OLS   Adj. R-squared:                  0.740\n",
      "Method:                 Least Squares   F-statistic:                     380.7\n",
      "Date:                Wed, 07 May 2025   Prob (F-statistic):          1.59e-305\n",
      "Time:                        10:38:19   Log-Likelihood:                -10846.\n",
      "No. Observations:                1070   AIC:                         2.171e+04\n",
      "Df Residuals:                    1061   BIC:                         2.175e+04\n",
      "Df Model:                           8                                         \n",
      "Covariance Type:            nonrobust                                         \n",
      "====================================================================================\n",
      "                       coef    std err          t      P>|t|      [0.025      0.975]\n",
      "------------------------------------------------------------------------------------\n",
      "const            -1.173e+04   1100.507    -10.656      0.000   -1.39e+04   -9567.700\n",
      "age                257.0956     13.479     19.074      0.000     230.648     283.544\n",
      "bmi                335.6312     32.392     10.362      0.000     272.072     399.191\n",
      "children           427.5777    154.684      2.764      0.006     124.057     731.098\n",
      "sex_male           -17.2931    376.238     -0.046      0.963    -755.549     720.963\n",
      "smoker_yes        2.366e+04    466.592     50.699      0.000    2.27e+04    2.46e+04\n",
      "region_northwest  -364.1689    536.956     -0.678      0.498   -1417.785     689.447\n",
      "region_southeast  -667.6008    540.174     -1.236      0.217   -1727.531     392.329\n",
      "region_southwest  -819.6014    535.406     -1.531      0.126   -1870.177     230.974\n",
      "==============================================================================\n",
      "Omnibus:                      252.194   Durbin-Watson:                   2.085\n",
      "Prob(Omnibus):                  0.000   Jarque-Bera (JB):              612.882\n",
      "Skew:                           1.253   Prob(JB):                    8.21e-134\n",
      "Kurtosis:                       5.733   Cond. No.                         305.\n",
      "==============================================================================\n",
      "\n",
      "Notes:\n",
      "[1] Standard Errors assume that the covariance matrix of the errors is correctly specified.\n"
     ]
    }
   ],
   "source": [
    "X_train = X_train.astype(int)\n",
    "X_train_const = sm.add_constant(X_train)  # 스탯스모델은 절편을 자동으로 포함하지 않아 수동으로 절편 항을 추가.\n",
    "\n",
    "# without add_constant -> 절편이 0이 되어 회귀선이 (0,0)을 지나야함\n",
    "\n",
    "# y_train도 혹시 모를 오류 방지를 위해 float으로\n",
    "y_train = y_train.astype(float)\n",
    "\n",
    "# OLS 모델 적합\n",
    "import statsmodels.api as sm\n",
    "ols_model = sm.OLS(y_train, X_train_const).fit()\n",
    "print(ols_model.summary())"
   ]
  },
  {
   "cell_type": "markdown",
   "id": "bc2cc4db-e0f3-4e1c-8459-097fcb53c968",
   "metadata": {},
   "source": [
    "- 결정 계수 : 0.742 (R** 모델 성능도 준수) \n",
    "- 보정된 설명력 : 모델 과적합되지 않음\n",
    "- F-statistic 전체 모델이 통계적으로 유의미함\n",
    "- Durbin-Watson 오차 간 독릭성 양호(2에 가까우면 좋음)\n",
    "- 유의미 ( age , bmi , children , smoker_yes )\n",
    "- charges = -11730.00  + 257.10 × age  + 335.63 × bmi + 427.58 × children - 17.29 × sex_male + 23660.00 × smoker_yes\n",
    "            -364.17 × region_northwest - 667.60 × region_southeast  - 819.60  region_southwest"
   ]
  },
  {
   "cell_type": "code",
   "execution_count": null,
   "id": "a357c1ab-0142-4b56-9224-a49b3749dd4a",
   "metadata": {},
   "outputs": [],
   "source": []
  }
 ],
 "metadata": {
  "kernelspec": {
   "display_name": "Python 3 (ipykernel)",
   "language": "python",
   "name": "python3"
  },
  "language_info": {
   "codemirror_mode": {
    "name": "ipython",
    "version": 3
   },
   "file_extension": ".py",
   "mimetype": "text/x-python",
   "name": "python",
   "nbconvert_exporter": "python",
   "pygments_lexer": "ipython3",
   "version": "3.12.9"
  }
 },
 "nbformat": 4,
 "nbformat_minor": 5
}
